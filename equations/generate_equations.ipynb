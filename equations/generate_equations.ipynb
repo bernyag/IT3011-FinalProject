{
 "cells": [
  {
   "cell_type": "code",
   "execution_count": 8,
   "metadata": {},
   "outputs": [],
   "source": [
    "import functions\n",
    "import os\n",
    "import random\n",
    "import shutil\n",
    "import numpy as np\n",
    "from PIL import Image\n",
    "import timeit\n",
    "import itertools\n",
    "#import cv2"
   ]
  },
  {
   "cell_type": "markdown",
   "metadata": {},
   "source": [
    "First we import the data into a dictionary that contains all the grayscale values of our images"
   ]
  },
  {
   "cell_type": "code",
   "execution_count": 9,
   "metadata": {},
   "outputs": [
    {
     "output_type": "stream",
     "name": "stdout",
     "text": "Test\n"
    }
   ],
   "source": [
    "numbers_library = functions.get_array_from_images('../images_no_copies')"
   ]
  },
  {
   "cell_type": "code",
   "execution_count": 5,
   "metadata": {},
   "outputs": [
    {
     "output_type": "stream",
     "name": "stdout",
     "text": "(45, 46)\n[[255 255 255 ... 255 255 255]\n [255 255 255 ... 255 255 255]\n [255 255 255 ... 255 255 255]\n ...\n [255 255 255 ... 255 255 255]\n [255 255 255 ... 255 255 255]\n [255 255 255 ... 255 255 255]]\n"
    }
   ],
   "source": [
    "test = numbers_library['1'][7]\n",
    "print(test.shape)\n",
    "print(test)\n",
    "\n",
    "img = Image.fromarray(test, \"L\" )\n",
    "img.save(\"test.png\")"
   ]
  },
  {
   "cell_type": "code",
   "execution_count": 6,
   "metadata": {},
   "outputs": [
    {
     "output_type": "stream",
     "name": "stdout",
     "text": "dict_keys(['div', 'times', '9', '0', '7', '+', '6', '1', '8', '-', '4', '3', '2', '5'])\n"
    }
   ],
   "source": [
    "print(functions.getList(numbers_library)) "
   ]
  },
  {
   "cell_type": "code",
   "execution_count": 21,
   "metadata": {},
   "outputs": [],
   "source": [
    "numsKeys = [\"0\", \"1\", \"2\", \"3\", \"4\", \"5\", \"6\", \"7\", \"8\", \"9\"]\n",
    "oprKeys = [\"+\", \"-\", \"div\", \"times\"]\n",
    "filterByKey = lambda keys: {x: numbers_library[x] for x in keys}\n",
    "nums = filterByKey(numsKeys)\n",
    "opr = filterByKey(oprKeys)"
   ]
  },
  {
   "cell_type": "code",
   "execution_count": 22,
   "metadata": {},
   "outputs": [
    {
     "name": "stdout",
     "output_type": "stream",
     "text": "Time: 3.642081699000016\n"
    }
   ],
   "source": [
    "################## Using nested fors\n",
    "\n",
    "start = timeit.default_timer()\n",
    "root = os.getcwd()\n",
    "for num1 in nums:\n",
    "    for opr1 in opr:\n",
    "        for num2 in nums:\n",
    "            path = \"\"+ root + \"/../generated_images/\" + num1 + opr1 + num2\n",
    "            \n",
    "            #Check if the directory already exists\n",
    "            if os.path.exists(path):    \n",
    "                #print (\"Directory %s replaced\" % path)\n",
    "                shutil.rmtree(path)\n",
    "            os.makedirs(path)\n",
    "            \n",
    "            #create a series of random images for training\n",
    "            for i in range(10):    \n",
    "                eqn = np.concatenate((random.choice(nums[num1]), random.choice(opr[opr1]), random.choice(nums[num2])), axis=1)\n",
    "                img = Image.fromarray(eqn , 'L')\n",
    "                img.save(path+\"/\"+str(i)+\".png\")\n",
    "stop = timeit.default_timer()\n",
    "print('Time: '+ str(stop-start))\n",
    "\n",
    "#8.14 sec 1st method\n"
   ]
  },
  {
   "cell_type": "code",
   "execution_count": 9,
   "metadata": {},
   "outputs": [
    {
     "name": "stdout",
     "output_type": "stream",
     "text": "Time: 2.40400694199991\n"
    }
   ],
   "source": [
    "################## Using itertools\n",
    "start = timeit.default_timer()\n",
    "root = os.getcwd()\n",
    "for element in itertools.product(nums,opr,nums):\n",
    "    path = \"\"+ root + \"..//generated_images/\" + str(element[0]+element[1]+element[2])\n",
    "    #Check if the directory already exists\n",
    "    if os.path.exists(path):    \n",
    "        #print (\"Directory %s replaced\" % path)\n",
    "        shutil.rmtree(path)\n",
    "    os.makedirs(path)\n",
    "    #create a series of random images for training\n",
    "    for i in range(10):    \n",
    "        eqn = np.concatenate((random.choice(nums[element[0]]), random.choice(opr[element[1]]), random.choice(nums[element[2]])), axis=1)\n",
    "        img = Image.fromarray(eqn , 'L')\n",
    "        img.save(path+\"/\"+str(i)+\".png\")\n",
    "stop = timeit.default_timer()\n",
    "print('Time: '+ str(stop-start))\n",
    "\n",
    "#9.85 sec 2nd method\n"
   ]
  },
  {
   "cell_type": "code",
   "execution_count": 11,
   "metadata": {},
   "outputs": [
    {
     "name": "stdout",
     "output_type": "stream",
     "text": "Test\n"
    }
   ],
   "source": [
    "############## Get all the current images into the library\n",
    "numbers_library.update(functions.get_array_from_images('../generated_images'))"
   ]
  },
  {
   "cell_type": "code",
   "execution_count": 7,
   "metadata": {},
   "outputs": [
    {
     "output_type": "error",
     "ename": "KeyError",
     "evalue": "'0times0'",
     "traceback": [
      "\u001b[0;31m---------------------------------------------------------------------------\u001b[0m",
      "\u001b[0;31mKeyError\u001b[0m                                  Traceback (most recent call last)",
      "\u001b[0;32m<ipython-input-7-e26e18064ada>\u001b[0m in \u001b[0;36m<module>\u001b[0;34m\u001b[0m\n\u001b[0;32m----> 1\u001b[0;31m \u001b[0mtest2\u001b[0m \u001b[0;34m=\u001b[0m \u001b[0mnumbers_library\u001b[0m\u001b[0;34m[\u001b[0m\u001b[0;34m'0times0'\u001b[0m\u001b[0;34m]\u001b[0m\u001b[0;34m[\u001b[0m\u001b[0;36m6\u001b[0m\u001b[0;34m]\u001b[0m\u001b[0;34m\u001b[0m\u001b[0;34m\u001b[0m\u001b[0m\n\u001b[0m\u001b[1;32m      2\u001b[0m \u001b[0mprint\u001b[0m\u001b[0;34m(\u001b[0m\u001b[0mtest2\u001b[0m\u001b[0;34m.\u001b[0m\u001b[0mshape\u001b[0m\u001b[0;34m)\u001b[0m\u001b[0;34m\u001b[0m\u001b[0;34m\u001b[0m\u001b[0m\n\u001b[1;32m      3\u001b[0m \u001b[0mprint\u001b[0m\u001b[0;34m(\u001b[0m\u001b[0mtest2\u001b[0m\u001b[0;34m)\u001b[0m\u001b[0;34m\u001b[0m\u001b[0;34m\u001b[0m\u001b[0m\n\u001b[1;32m      4\u001b[0m \u001b[0;34m\u001b[0m\u001b[0m\n\u001b[1;32m      5\u001b[0m \u001b[0mimg2\u001b[0m \u001b[0;34m=\u001b[0m \u001b[0mImage\u001b[0m\u001b[0;34m.\u001b[0m\u001b[0mfromarray\u001b[0m\u001b[0;34m(\u001b[0m\u001b[0mtest2\u001b[0m\u001b[0;34m,\u001b[0m \u001b[0;34m\"L\"\u001b[0m \u001b[0;34m)\u001b[0m\u001b[0;34m\u001b[0m\u001b[0;34m\u001b[0m\u001b[0m\n",
      "\u001b[0;31mKeyError\u001b[0m: '0times0'"
     ]
    }
   ],
   "source": [
    "test2 = numbers_library['0times0'][6]\n",
    "print(test2.shape)\n",
    "print(test2)\n",
    "\n",
    "img2 = Image.fromarray(test2, \"L\" )\n",
    "img2.save(\"x.png\")"
   ]
  },
  {
   "cell_type": "code",
   "execution_count": 6,
   "metadata": {},
   "outputs": [
    {
     "name": "stdout",
     "output_type": "stream",
     "text": "All the different symbols and equations are: \n\ndict_keys(['div', 'times', '9', '0', '7', '+', '6', '1', '8', '-', '4', '3', '2', '5'])\n"
    }
   ],
   "source": [
    "print('All the different symbols and equations are: \\n\\n'+ str(functions.getList(numbers_library)) )"
   ]
  },
  {
   "cell_type": "code",
   "execution_count": 18,
   "metadata": {},
   "outputs": [],
   "source": [
    "import pandas as pd"
   ]
  },
  {
   "cell_type": "code",
   "execution_count": 8,
   "metadata": {},
   "outputs": [],
   "source": [
    "######### Save into a .csv file of 2D entries\n",
    "(pd.DataFrame.from_dict(data=numbers_library, orient='index')\n",
    "   .to_csv('dict_file.csv', header=False))"
   ]
  },
  {
   "cell_type": "code",
   "execution_count": 8,
   "metadata": {},
   "outputs": [],
   "source": [
    "import csv"
   ]
  },
  {
   "cell_type": "code",
   "execution_count": 30,
   "metadata": {},
   "outputs": [],
   "source": [
    "colNames = [\"pixel\" + str(i+1) for i in range(len(numbers_library['1'][1].flatten()))]\n",
    "colNames.insert(0,'Symbol')"
   ]
  },
  {
   "cell_type": "code",
   "execution_count": 32,
   "metadata": {},
   "outputs": [],
   "source": [
    "#make new csv file\n",
    "with open('good.csv','w') as fd:\n",
    "    writer = csv.writer(fd)\n",
    "    writer.writerow(colNames)\n",
    "\n",
    "# Add all the arrays into the csv\n",
    "for symbols in numbers_library:\n",
    "    #for arrays in range(symbols):\n",
    "    for array in range(len(numbers_library[symbols])):\n",
    "        a = np.array(numbers_library[symbols][array])\n",
    "        a = list(a.flatten())\n",
    "        a.insert(0,symbols)\n",
    "        #print(\"Symbol \" + str(symbols) + \":    \\t\" + str(a))\n",
    "        with open('good.csv','a') as fd:\n",
    "            writer = csv.writer(fd)\n",
    "            writer.writerow(a)"
   ]
  },
  {
   "cell_type": "code",
   "execution_count": 33,
   "metadata": {},
   "outputs": [
    {
     "name": "stdout",
     "output_type": "stream",
     "text": "Symbol  pixel1  pixel2  pixel3  pixel4  pixel5  pixel6  pixel7  pixel8  \\\n0        div     255     255     255     255     255     255     255     255   \n1        div     255     255     255     255     255     255     255     255   \n2        div     255     255     255     255     255     255     255     255   \n3        div     255     255     255     255     255     255     255     255   \n4        div     255     255     255     255     255     255     255     255   \n5        div     255     255     255     255     255     255     255     255   \n6        div     255     255     255     255     255     255     255     255   \n7        div     255     255     255     255     255     255     255     255   \n8        div     255     255     255     255     255     255     255     255   \n9        div     255     255     255     255     255     255     255     255   \n10       div     255     255     255     255     255     255     255     255   \n11       div     255     255     255     255     255     255     255     255   \n12       div     255     255     255     255     255     255     255     255   \n13       div     255     255     255     255     255     255     255     255   \n14       div     255     255     255     255     255     255     255     255   \n15       div     255     255     255     255     255     255     255     255   \n16       div     255     255     255     255     255     255     255     255   \n17       div     255     255     255     255     255     255     255     255   \n18       div     255     255     255     255     255     255     255     255   \n19       div     255     255     255     255     255     255     255     255   \n20       div     255     255     255     255     255     255     255     255   \n21       div     255     255     255     255     255     255     255     255   \n22       div     255     255     255     255     255     255     255     255   \n23       div     255     255     255     255     255     255     255     255   \n24       div     255     255     255     255     255     255     255     255   \n25       div     255     255     255     255     255     255     255     255   \n26       div     255     255     255     255     255     255     255     255   \n27       div     255     255     255     255     255     255     255     255   \n28       div     255     255     255     255     255     255     255     255   \n29       div     255     255     255     255     255     255     255     255   \n...      ...     ...     ...     ...     ...     ...     ...     ...     ...   \n34695      5     254     255     253     255     255     255     255     255   \n34696      5     255     255     255     255     255     255     255     255   \n34697      5     255     255     254     255     250     255       3       0   \n34698      5     254     255     255     253     255     252     255     255   \n34699      5     255     255     255     255     255     255     255     255   \n34700      5     255     255     255     255     255     255     255     255   \n34701      5     254     255     252     255     255     255     252     255   \n34702      5     255     255     255     255     255     255     255     255   \n34703      5     254     255     255     254     255       3       0       0   \n34704      5     255       0       1       1       0       0       0     255   \n34705      5     255     255     255     255     255     255     255     255   \n34706      5     255     255     255     255     255     255     255     255   \n34707      5     255     255     255     255     255     255     255     255   \n34708      5     254     255     255     255     255     255     254     255   \n34709      5     255     255     255     255     255     255     255     255   \n34710      5     255     255     255     255     255     255     255     255   \n34711      5     255     255     255     255     255     255     255     255   \n34712      5     254     255     254     255     255     255     252     255   \n34713      5     255     253     255     255     255     254     255     254   \n34714      5     255     255     255     255     255     255     255     255   \n34715      5     255     255     255     255     255     255     255     255   \n34716      5     255     255     255     255     255     255     255     255   \n34717      5     255     255     255     255     255     255     255     255   \n34718      5     255     255     255     255     255     255     255     255   \n34719      5     255     255     255     255     255     255     255     255   \n34720      5     255     255     253     252     255     255       1     255   \n34721      5     255     254     255     255     254     255     255     255   \n34722      5     255     255     255     255     255     255     255     255   \n34723      5     255     255     255     255     255     255     255     255   \n34724      5     254     255     255     254     255     255     255     255   \n\n       pixel9  ...  pixel2061  pixel2062  pixel2063  pixel2064  pixel2065  \\\n0         255  ...        255        255        255        255        255   \n1         255  ...        255        255        255        255        255   \n2         255  ...        255        255        255        255        255   \n3         255  ...        255        255        255        255        255   \n4         253  ...        255        255        255        255        255   \n5         255  ...        255        255        255        255        255   \n6         255  ...        255        255        255        255        255   \n7         255  ...        255        255        255        255        255   \n8         255  ...        253        254        255        255        255   \n9         255  ...        255        255        255        255        255   \n10        255  ...        255        255        255        255        255   \n11        255  ...        255        255        255        255        255   \n12        255  ...        255        255        255        255        255   \n13        255  ...        255        255        255        255        255   \n14        255  ...        255        255        255        255        255   \n15        255  ...        255        255        255        255        255   \n16        255  ...        255        255        255        255        255   \n17        255  ...        255        255        255        255        255   \n18        255  ...        255        255        255        255        255   \n19        255  ...        255        255        255        255        255   \n20        255  ...        255        255        255        254        255   \n21        254  ...        255        255        255        255        255   \n22        255  ...        255        255        255        255        255   \n23        255  ...        255        255        255        255        255   \n24        255  ...        255        255        255        255        255   \n25        255  ...        255        255        255        255        255   \n26        255  ...        255        255        255        255        255   \n27        255  ...        255        255        255        255        255   \n28        255  ...        255        255        255        255        255   \n29        255  ...        255        255        255        255        255   \n...       ...  ...        ...        ...        ...        ...        ...   \n34695     255  ...        255        255        255        255        255   \n34696     255  ...        255        255        255        255        255   \n34697       0  ...        253        254        252        255        255   \n34698     254  ...        255        253        255        255        255   \n34699     255  ...        255        255        255        255        255   \n34700     255  ...        255        255        255        255        255   \n34701       0  ...        255        255        255        255        255   \n34702     255  ...        255        255        255        255        255   \n34703       0  ...        255        255        255        255        255   \n34704     255  ...        255        255        251        255        255   \n34705     255  ...        255        255        255        255        255   \n34706     255  ...        255        255        255        255        255   \n34707     255  ...        255        255        255        255        255   \n34708     255  ...        255        255        255        255        255   \n34709     255  ...        255        255        255        255        255   \n34710     255  ...        254        252        255        253        255   \n34711     255  ...        255        255        255        255        255   \n34712     255  ...        255        255        255        255        255   \n34713     255  ...        255        255        255        255        255   \n34714     255  ...        255        255        255        255        255   \n34715     255  ...        255        255        255        255        255   \n34716     255  ...        255        255        255        255        255   \n34717     255  ...        255        255        255        255        255   \n34718     255  ...        255        255        255        255        255   \n34719     255  ...        249        255        251        255        255   \n34720     253  ...        254        255        255        254        255   \n34721     255  ...        255        255        255        255        255   \n34722     255  ...        255        255        255        255        255   \n34723     255  ...        255        255        255        255        255   \n34724     255  ...        255        255        255        255        255   \n\n       pixel2066  pixel2067  pixel2068  pixel2069  pixel2070  \n0            255        255        255        255        255  \n1            255        255        255        255        255  \n2            255        255        255        255        255  \n3            255        255        255        255        255  \n4            255        255        255        255        255  \n5            255        255        255        255        255  \n6            255        255        255        255        255  \n7            255        255        255        255        255  \n8            252        254        255        252        255  \n9            255        255        255        255        255  \n10           255        255        255        255        255  \n11           255        255        255        255        255  \n12           255        255        255        255        255  \n13           255        255        255        255        255  \n14           255        255        255        255        255  \n15           255        255        255        255        255  \n16           255        255        255        255        255  \n17           255        255        255        255        255  \n18           255        255        255        255        255  \n19           255        255        255        255        255  \n20           255        255        255        255        255  \n21           255        255        255        255        255  \n22           255        255        255        255        255  \n23           255        255        255        255        255  \n24           255        255        255        255        255  \n25           255        255        255        255        255  \n26           255        255        255        255        255  \n27           255        255        255        255        255  \n28           255        255        255        255        255  \n29           255        255        255        255        255  \n...          ...        ...        ...        ...        ...  \n34695        255        255        255        255        255  \n34696        255        255        255        255        255  \n34697        255        255        255        255        255  \n34698        255        255        255        255        255  \n34699        255        255        255        255        255  \n34700        255        255        255        255        255  \n34701        255        255        255        255        255  \n34702        255        255        255        255        255  \n34703        255        255        255        255        255  \n34704        255        253        255        255        255  \n34705        255        255        255        255        255  \n34706        255        255        255        255        255  \n34707        255        255        255        255        255  \n34708        255        255        255        255        255  \n34709        255        255        255        255        255  \n34710        255        255        255        255        255  \n34711        255        255        255        255        255  \n34712        255        255        255        255        255  \n34713        255        255        255        255        255  \n34714        255        255        255        255        255  \n34715        255        255        255        255        255  \n34716        255        255        255        255        255  \n34717        255        255        255        255        255  \n34718        255        255        255        255        255  \n34719        255        255        255        255        255  \n34720        255        255        255        255        255  \n34721        255        255        255        255        255  \n34722        255        255        255        255        255  \n34723        255        255        255        255        255  \n34724        255        255        255        255        255  \n\n[34725 rows x 2071 columns]\n"
    }
   ],
   "source": [
    "df = pd.read_csv('good.csv')\n",
    "print(df)"
   ]
  }
 ],
 "metadata": {
  "file_extension": ".py",
  "kernelspec": {
   "display_name": "Python 3",
   "language": "python",
   "name": "python3"
  },
  "language_info": {
   "codemirror_mode": {
    "name": "ipython",
    "version": 3
   },
   "file_extension": ".py",
   "mimetype": "text/x-python",
   "name": "python",
   "nbconvert_exporter": "python",
   "pygments_lexer": "ipython3",
   "version": "3.7.3-final"
  },
  "mimetype": "text/x-python",
  "name": "python",
  "npconvert_exporter": "python",
  "pygments_lexer": "ipython3",
  "version": 3
 },
 "nbformat": 4,
 "nbformat_minor": 2
}