{
 "nbformat": 4,
 "nbformat_minor": 2,
 "metadata": {
  "language_info": {
   "name": "python",
   "codemirror_mode": {
    "name": "ipython",
    "version": 3
   },
   "version": "3.7.4-final"
  },
  "orig_nbformat": 2,
  "file_extension": ".py",
  "mimetype": "text/x-python",
  "name": "python",
  "npconvert_exporter": "python",
  "pygments_lexer": "ipython3",
  "version": 3,
  "kernelspec": {
   "name": "python37464bitbasecondadc15f783566e4d7487b6cabcb30a867a",
   "display_name": "Python 3.7.4 64-bit ('base': conda)"
  }
 },
 "cells": [
  {
   "cell_type": "code",
   "execution_count": 12,
   "metadata": {},
   "outputs": [],
   "source": [
    "# get data\n",
    "from functions import get_all_data\n",
    "\n",
    "data = get_all_data()"
   ]
  },
  {
   "cell_type": "code",
   "execution_count": 13,
   "metadata": {},
   "outputs": [],
   "source": [
    "from functions import split_data\n",
    "\n",
    "dev, test = split_data(data, 0.1)"
   ]
  },
  {
   "cell_type": "code",
   "execution_count": 19,
   "metadata": {},
   "outputs": [],
   "source": [
    "from functions import reshape\n",
    "\n",
    "training_data, training_labels = reshape(dev)\n",
    "test_data, test_labels = reshape(test)"
   ]
  },
  {
   "cell_type": "code",
   "execution_count": 9,
   "metadata": {},
   "outputs": [
    {
     "name": "stdout",
     "output_type": "stream",
     "text": "<class 'numpy.ndarray'>\n[255 255 255 ... 255 255 255]\n"
    }
   ],
   "source": [
    "print(type(test_data))\n",
    "print(training_data[0])"
   ]
  },
  {
   "cell_type": "code",
   "execution_count": 20,
   "metadata": {},
   "outputs": [
    {
     "data": {
      "text/plain": "KNeighborsClassifier(algorithm='auto', leaf_size=30, metric='minkowski',\n                     metric_params=None, n_jobs=None, n_neighbors=1, p=2,\n                     weights='uniform')"
     },
     "execution_count": 20,
     "metadata": {},
     "output_type": "execute_result"
    }
   ],
   "source": [
    "import cv2\n",
    "from sklearn.neighbors import KNeighborsClassifier\n",
    "import numpy as np\n",
    "\n",
    "# KNN\n",
    "neigh = KNeighborsClassifier(n_neighbors = 1)\n",
    "neigh.fit(training_data, training_labels)"
   ]
  },
  {
   "cell_type": "code",
   "execution_count": 21,
   "metadata": {},
   "outputs": [
    {
     "name": "stdout",
     "output_type": "stream",
     "text": "0.6564307966177125\n"
    },
    {
     "data": {
      "text/plain": "array([[116,   0,   1,   0,   0,   1,   3,   1,   1,   1],\n       [ 21, 625, 140,  44, 109,  34,  15,  48,  25,  40],\n       [ 14,   2, 436,  30,   4,   2,   9,   1,  32,   6],\n       [  5,   0,  21, 148,   1,  22,   1,   1,  10,  13],\n       [  7,   2,   4,   2,  44,   4,   3,   3,   0,   3],\n       [  6,   1,   6,  10,   0,  34,   5,   1,   3,   2],\n       [  7,   0,   0,   0,   1,   0,  45,   0,   0,   0],\n       [  5,   2,  13,  11,   5,   3,   0,  20,   1,   3],\n       [  0,   0,   0,   0,   0,   0,   0,   0,   1,   0],\n       [  0,   0,   0,   1,   0,   0,   0,   0,   0,   6]], dtype=int64)"
     },
     "execution_count": 21,
     "metadata": {},
     "output_type": "execute_result"
    }
   ],
   "source": [
    "from sklearn.metrics import confusion_matrix\n",
    "print(neigh.score(test_data, test_labels))\n",
    "\n",
    "prediction = neigh.predict(test_data)\n",
    "confusion_matrix(prediction, test_labels)"
   ]
  },
  {
   "cell_type": "code",
   "execution_count": null,
   "metadata": {},
   "outputs": [],
   "source": []
  }
 ]
}