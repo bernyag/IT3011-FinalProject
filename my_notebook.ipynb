{
 "nbformat": 4,
 "nbformat_minor": 2,
 "metadata": {
  "language_info": {
   "name": "python",
   "codemirror_mode": {
    "name": "ipython",
    "version": 3
   },
   "version": "3.7.4-final"
  },
  "orig_nbformat": 2,
  "file_extension": ".py",
  "mimetype": "text/x-python",
  "name": "python",
  "npconvert_exporter": "python",
  "pygments_lexer": "ipython3",
  "version": 3,
  "kernelspec": {
   "name": "python37464bitbasecondadc15f783566e4d7487b6cabcb30a867a",
   "display_name": "Python 3.7.4 64-bit ('base': conda)"
  }
 },
 "cells": [
  {
   "cell_type": "code",
   "execution_count": 2,
   "metadata": {},
   "outputs": [],
   "source": [
    "# get data\n",
    "from functions import get_all_data\n",
    "\n",
    "data = get_all_data()"
   ]
  },
  {
   "cell_type": "code",
   "execution_count": 4,
   "metadata": {},
   "outputs": [],
   "source": [
    "from functions import split_data\n",
    "\n",
    "dev, test = split_data(data, 0.1)"
   ]
  },
  {
   "cell_type": "code",
   "execution_count": 5,
   "metadata": {},
   "outputs": [],
   "source": [
    "from functions import reshape\n",
    "\n",
    "training_data, training_labels = reshape(dev)\n",
    "test_data, test_labels = reshape(test)"
   ]
  },
  {
   "cell_type": "code",
   "execution_count": 6,
   "metadata": {},
   "outputs": [
    {
     "data": {
      "text/plain": "KNeighborsClassifier(algorithm='auto', leaf_size=30, metric='minkowski',\n                     metric_params=None, n_jobs=None, n_neighbors=1, p=2,\n                     weights='uniform')"
     },
     "execution_count": 6,
     "metadata": {},
     "output_type": "execute_result"
    }
   ],
   "source": [
    "import cv2\n",
    "from sklearn.neighbors import KNeighborsClassifier\n",
    "import numpy as np\n",
    "\n",
    "# KNN\n",
    "neigh = KNeighborsClassifier(n_neighbors = 1)\n",
    "neigh.fit(training_data, training_labels)"
   ]
  },
  {
   "cell_type": "code",
   "execution_count": 7,
   "metadata": {},
   "outputs": [
    {
     "name": "stdout",
     "output_type": "stream",
     "text": "0.6562115621156211\n"
    }
   ],
   "source": [
    "from sklearn.metrics import confusion_matrix\n",
    "print(neigh.score(test_data, test_labels))\n",
    "# prediction = neigh.predict(test_data)\n",
    "# confusion_matrix(prediction, test_labels)"
   ]
  },
  {
   "cell_type": "code",
   "execution_count": 8,
   "metadata": {},
   "outputs": [
    {
     "data": {
      "text/plain": "array([[121,   0,   0,   0,   1,   4,   1,   1,   1],\n       [ 23, 627,  53, 111,  34,  18,  48,  38,  42],\n       [  8,   0, 164,   1,  23,   3,   1,  24,  15],\n       [  7,   2,   2,  45,   4,   4,   3,   1,   3],\n       [ 10,   1,  10,   0,  35,   5,   2,   6,   2],\n       [  7,   0,   0,   1,   0,  47,   0,   0,   0],\n       [  5,   2,  16,   6,   3,   0,  20,   1,   5],\n       [  0,   0,   0,   0,   0,   0,   0,   2,   0],\n       [  0,   0,   1,   0,   0,   0,   0,   0,   6]], dtype=int64)"
     },
     "execution_count": 8,
     "metadata": {},
     "output_type": "execute_result"
    }
   ],
   "source": [
    "prediction = neigh.predict(test_data)\n",
    "confusion_matrix(prediction, test_labels)"
   ]
  },
  {
   "cell_type": "code",
   "execution_count": null,
   "metadata": {},
   "outputs": [],
   "source": [
    "from sklearn import datasets, svm, metrics\n",
    "classifier = svm.SVC(gamma=0.001)\n",
    "classifier.fit(training_data, training_labels)"
   ]
  }
 ]
}