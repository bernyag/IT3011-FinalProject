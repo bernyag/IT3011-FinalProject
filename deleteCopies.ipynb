{
 "cells": [
  {
   "cell_type": "code",
   "execution_count": 1,
   "metadata": {},
   "outputs": [],
   "source": [
    "import imageio\n",
    "import numpy as np\n",
    "import os"
   ]
  },
  {
   "cell_type": "code",
   "execution_count": 6,
   "metadata": {},
   "outputs": [
    {
     "name": "stdout",
     "output_type": "stream",
     "text": [
      "Directory: ./extracted_images/.DS_Store\n",
      "Repeat/Total: 0/0\n",
      "Directory: ./extracted_images/div\n",
      "Repeat/Total: 711/868\n",
      "Directory: ./extracted_images/times\n",
      "Repeat/Total: 2651/3251\n",
      "Directory: ./extracted_images/sin\n",
      "Repeat/Total: 3510/4293\n",
      "Directory: ./extracted_images/9\n",
      "Repeat/Total: 2995/3737\n",
      "Directory: ./extracted_images/0\n",
      "Repeat/Total: 5104/6914\n",
      "Directory: ./extracted_images/7\n",
      "Repeat/Total: 2156/2909\n",
      "Directory: ./extracted_images/+\n",
      "Repeat/Total: 19669/25112\n",
      "Directory: ./extracted_images/6\n",
      "Repeat/Total: 2306/3118\n",
      "Directory: ./extracted_images/1\n",
      "Repeat/Total: 20193/26520\n",
      "Directory: ./extracted_images/8\n",
      "Repeat/Total: 2337/3068\n",
      "Directory: ./extracted_images/cos\n",
      "Repeat/Total: 2412/2986\n",
      "Directory: ./extracted_images/-\n",
      "Repeat/Total: 27975/33997\n",
      "Directory: ./extracted_images/sqrt\n",
      "Repeat/Total: 7259/8908\n",
      "Directory: ./extracted_images/pi\n",
      "Repeat/Total: 1834/2332\n",
      "Directory: ./extracted_images/log\n",
      "Repeat/Total: 1699/2001\n",
      "Directory: ./extracted_images/theta\n",
      "Repeat/Total: 2253/2796\n",
      "Directory: ./extracted_images/!\n",
      "Repeat/Total: 1076/1300\n",
      "Directory: ./extracted_images/(\n",
      "Repeat/Total: 10308/14294\n",
      "Directory: ./extracted_images/=\n",
      "Repeat/Total: 9464/13104\n",
      "Directory: ./extracted_images/4\n",
      "Repeat/Total: 5755/7396\n",
      "Directory: ./extracted_images/3\n",
      "Repeat/Total: 8440/10909\n",
      "Directory: ./extracted_images/)\n",
      "Repeat/Total: 10377/14355\n",
      "Directory: ./extracted_images/2\n",
      "Repeat/Total: 19931/26141\n",
      "Directory: ./extracted_images/5\n",
      "Repeat/Total: 2537/3545\n"
     ]
    }
   ],
   "source": [
    "def deletefromfolder(path):\n",
    "    datadir = path\n",
    "    print('Directory:', datadir)\n",
    "\n",
    "    rmmap = dict()\n",
    "    total = 0\n",
    "    repeatcnt = 0\n",
    "    for root, directories, filenames in os.walk(datadir):\n",
    "        for filename in filenames:\n",
    "            total += 1\n",
    "            if filename.endswith('.jpg') and not filename.startswith('._'):\n",
    "                filei = os.path.join(root, filename)\n",
    "                imi = imageio.imread(filei)\n",
    "                npi = np.asarray(imi).reshape(1, -1).reshape((2025, ))\n",
    "                idf = npi.tolist()\n",
    "                for i in range(len(idf)):\n",
    "                    idf[i] = str(idf[i])\n",
    "                strlist = ''.join(idf)\n",
    "\n",
    "                if strlist in rmmap.keys():\n",
    "                    repeatcnt += 1\n",
    "                    rmmap[strlist].append(filename)\n",
    "                else:\n",
    "                    rmmap[strlist] = list()\n",
    "\n",
    "    #for key in rmmap:\n",
    "    #    print(rmmap[key])\n",
    "    print('Repeat/Total: {}/{}'.format(repeatcnt, total))\n",
    "    for key in rmmap:\n",
    "        for item in rmmap[key]:\n",
    "            os.remove(os.path.join(datadir, item))\n",
    "\n",
    "if __name__ == '__main__':\n",
    "    images_path = './extracted_images/'\n",
    "    dirlist = os.listdir(images_path)\n",
    "    for item in dirlist:\n",
    "        deletefromfolder(os.path.join(images_path,item))"
   ]
  },
  {
   "cell_type": "code",
   "execution_count": null,
   "metadata": {},
   "outputs": [],
   "source": []
  }
 ],
 "metadata": {
  "kernelspec": {
   "display_name": "Python 3",
   "language": "python",
   "name": "python3"
  },
  "language_info": {
   "codemirror_mode": {
    "name": "ipython",
    "version": 3
   },
   "file_extension": ".py",
   "mimetype": "text/x-python",
   "name": "python",
   "nbconvert_exporter": "python",
   "pygments_lexer": "ipython3",
   "version": "3.7.3"
  }
 },
 "nbformat": 4,
 "nbformat_minor": 2
}
