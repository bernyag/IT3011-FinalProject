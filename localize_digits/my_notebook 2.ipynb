{
 "nbformat": 4,
 "nbformat_minor": 2,
 "metadata": {
  "language_info": {
   "name": "python",
   "codemirror_mode": {
    "name": "ipython",
    "version": 3
   },
   "version": "3.7.6-final"
  },
  "orig_nbformat": 2,
  "file_extension": ".py",
  "mimetype": "text/x-python",
  "name": "python",
  "npconvert_exporter": "python",
  "pygments_lexer": "ipython3",
  "version": 3,
  "kernelspec": {
   "name": "python37664bitbaseconda6f4b237545df47588ae4d05a34d152ef",
   "display_name": "Python 3.7.6 64-bit ('base': conda)"
  }
 },
 "cells": [
  {
   "cell_type": "code",
   "execution_count": 5,
   "metadata": {},
   "outputs": [],
   "source": [
    "# get data\n",
    "from functions import get_all_data\n",
    "\n",
    "data = get_all_data()"
   ]
  },
  {
   "cell_type": "code",
   "execution_count": 6,
   "metadata": {},
   "outputs": [],
   "source": [
    "from functions import split_data\n",
    "\n",
    "dev, test = split_data(data, 0.1)"
   ]
  },
  {
   "cell_type": "code",
   "execution_count": 7,
   "metadata": {},
   "outputs": [],
   "source": [
    "from functions import reshape\n",
    "\n",
    "training_data, training_labels = reshape(dev)\n",
    "test_data, test_labels = reshape(test)"
   ]
  },
  {
   "cell_type": "code",
   "execution_count": 8,
   "metadata": {},
   "outputs": [
    {
     "output_type": "stream",
     "name": "stdout",
     "text": "['+' '+' '+' ... '4' '4' '4']\nCounter({'1': 5695, '2': 5589, '-': 5420, '+': 4899, '3': 2223, '0': 1629, '4': 1477, '5': 908, '6': 731, '7': 678, '9': 668, '8': 658, 'times': 540, 'div': 142})\n"
    }
   ],
   "source": [
    "import collections\n",
    "print(training_labels)\n",
    "print(collections.Counter(training_labels))"
   ]
  },
  {
   "cell_type": "code",
   "execution_count": 9,
   "metadata": {},
   "outputs": [],
   "source": [
    "x, y = reshape(data)"
   ]
  },
  {
   "cell_type": "code",
   "execution_count": 10,
   "metadata": {},
   "outputs": [
    {
     "output_type": "execute_result",
     "data": {
      "text/plain": "KNeighborsClassifier(algorithm='auto', leaf_size=30, metric='minkowski',\n                     metric_params=None, n_jobs=None, n_neighbors=1, p=2,\n                     weights='uniform')"
     },
     "metadata": {},
     "execution_count": 10
    }
   ],
   "source": [
    "import cv2\n",
    "from sklearn.neighbors import KNeighborsClassifier\n",
    "import numpy as np\n",
    "\n",
    "# KNN\n",
    "neigh = KNeighborsClassifier(n_neighbors = 1)\n",
    "neigh.fit(training_data, training_labels)"
   ]
  },
  {
   "cell_type": "code",
   "execution_count": 11,
   "metadata": {},
   "outputs": [
    {
     "output_type": "stream",
     "name": "stdout",
     "text": "0.48904267589388695\n"
    }
   ],
   "source": [
    "from sklearn.metrics import confusion_matrix\n",
    "print(neigh.score(test_data, test_labels))\n",
    "# prediction = neigh.predict(test_data)\n",
    "# confusion_matrix(prediction, test_labels)"
   ]
  },
  {
   "cell_type": "code",
   "execution_count": 12,
   "metadata": {},
   "outputs": [],
   "source": [
    "#prediction = neigh.predict(test_data)\n",
    "#confusion_matrix(prediction, test_labels)"
   ]
  },
  {
   "cell_type": "code",
   "execution_count": 13,
   "metadata": {},
   "outputs": [
    {
     "output_type": "execute_result",
     "data": {
      "text/plain": "SVC(C=1.0, break_ties=False, cache_size=200, class_weight=None, coef0=0.0,\n    decision_function_shape='ovr', degree=3, gamma=0.001, kernel='rbf',\n    max_iter=-1, probability=False, random_state=None, shrinking=True,\n    tol=0.001, verbose=False)"
     },
     "metadata": {},
     "execution_count": 13
    }
   ],
   "source": [
    "from sklearn import datasets, svm, metrics\n",
    "classifier = svm.SVC(gamma=0.001)\n",
    "classifier.fit(training_data, training_labels)\n",
    "# next time add n_jobs = -1 to run in parallel"
   ]
  },
  {
   "cell_type": "code",
   "execution_count": 14,
   "metadata": {},
   "outputs": [
    {
     "output_type": "stream",
     "name": "stdout",
     "text": "Cross-validated scores: [0.88453786 0.88828103 0.89432767 0.89144832 0.89605528 0.87960829\n 0.89861751 0.89948157 0.88882488 0.88191244]\nMean of Cross-validated scores: 0.8903094858825356\n"
    }
   ],
   "source": [
    "\n",
    "from sklearn.model_selection import KFold, cross_val_score, cross_val_predict\n",
    "\n",
    "cv_score = cross_val_score(classifier,x,y,cv = 10, n_jobs=-1)  #might need to change the format of labels to a dataframe if it doesn't run  \n",
    "print (\"Cross-validated scores:\", cv_score)\n",
    "print (\"Mean of Cross-validated scores:\", np.mean(cv_score))"
   ]
  },
  {
   "cell_type": "code",
   "execution_count": null,
   "metadata": {},
   "outputs": [],
   "source": [
    "\n",
    "from sklearn.model_selection import KFold, cross_val_score, cross_val_predict\n",
    "\n",
    "cv_score = cross_val_score(neigh,x,y,cv = 10, n_jobs=-1, verbose=1)  #might need to change the format of labels to a dataframe if it doesn't run  \n",
    "print (\"Cross-validated scores:\", cv_score)\n",
    "print (\"Mean of Cross-validated scores:\", np.mean(cv_score))"
   ]
  }
 ]
}