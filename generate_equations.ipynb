{
 "cells": [
  {
   "cell_type": "code",
   "execution_count": 1,
   "metadata": {},
   "outputs": [],
   "source": [
    "import functions\n",
    "import os\n",
    "import random\n",
    "import shutil\n",
    "import numpy as np\n",
    "from PIL import Image\n",
    "import timeit\n",
    "import itertools\n",
    "#import cv2"
   ]
  },
  {
   "cell_type": "markdown",
   "metadata": {},
   "source": [
    "First we import the data into a dictionary that contains all the grayscale values of our images"
   ]
  },
  {
   "cell_type": "code",
   "execution_count": 5,
   "metadata": {},
   "outputs": [
    {
     "name": "stdout",
     "output_type": "stream",
     "text": "Test\n"
    }
   ],
   "source": [
    "numbers_library = functions.get_all_data('images_no_copies')"
   ]
  },
  {
   "cell_type": "code",
   "execution_count": 9,
   "metadata": {},
   "outputs": [
    {
     "name": "stdout",
     "output_type": "stream",
     "text": "(45, 46)\n[[255 255 255 ... 255 255 255]\n [255 255 255 ... 255 255 255]\n [255 255 255 ... 255 255 255]\n ...\n [255 255 255 ... 255 255 255]\n [255 255 255 ... 255 255 255]\n [255 255 255 ... 255 255 255]]\n"
    }
   ],
   "source": [
    "test = numbers_library['1'][7]\n",
    "print(test.shape)\n",
    "print(test)\n",
    "\n",
    "img = Image.fromarray(test, \"L\" )\n",
    "img.save(\"test.png\")"
   ]
  },
  {
   "cell_type": "code",
   "execution_count": 7,
   "metadata": {},
   "outputs": [
    {
     "name": "stdout",
     "output_type": "stream",
     "text": "dict_keys(['div', 'times', 'sin', '9', '0', '7', '+', '6', '1', '8', 'cos', '-', 'sqrt', 'pi', 'log', 'theta', '!', '(', '=', '4', '3', ')', '2', '5'])\n"
    }
   ],
   "source": [
    "print(functions.getList(numbers_library)) "
   ]
  },
  {
   "cell_type": "code",
   "execution_count": 8,
   "metadata": {},
   "outputs": [],
   "source": [
    "numsKeys = [\"0\", \"1\", \"2\", \"3\", \"4\", \"5\", \"6\", \"7\", \"8\", \"9\"]\n",
    "oprKeys = [\"+\", \"-\", \"div\", \"times\"]\n",
    "filterByKey = lambda keys: {x: numbers_library[x] for x in keys}\n",
    "nums = filterByKey(numsKeys)\n",
    "opr = filterByKey(oprKeys)"
   ]
  },
  {
   "cell_type": "code",
   "execution_count": 12,
   "metadata": {},
   "outputs": [
    {
     "name": "stdout",
     "output_type": "stream",
     "text": "Time: 7.905387873000109\n"
    }
   ],
   "source": [
    "################## Using nested fors\n",
    "\n",
    "start = timeit.default_timer()\n",
    "root = os.getcwd()\n",
    "for num1 in nums:\n",
    "    for opr1 in opr:\n",
    "        for num2 in nums:\n",
    "            path = \"\"+ root + \"/generated_images/\" + num1 + opr1 + num2\n",
    "            \n",
    "            #Check if the directory already exists\n",
    "            if os.path.exists(path):    \n",
    "                #print (\"Directory %s replaced\" % path)\n",
    "                shutil.rmtree(path)\n",
    "            os.makedirs(path)\n",
    "            \n",
    "            #create a series of random images for training\n",
    "            for i in range(10):    \n",
    "                eqn = np.concatenate((random.choice(nums[num1]), random.choice(opr[opr1]), random.choice(nums[num2])), axis=1)\n",
    "                img = Image.fromarray(eqn , 'L')\n",
    "                img.save(path+\"/\"+str(i)+\".png\")\n",
    "stop = timeit.default_timer()\n",
    "print('Time: '+ str(stop-start))\n",
    "\n",
    "#8.14 sec 1st method\n"
   ]
  },
  {
   "cell_type": "code",
   "execution_count": 14,
   "metadata": {},
   "outputs": [
    {
     "name": "stdout",
     "output_type": "stream",
     "text": "Time: 3.6109992940000666\n"
    }
   ],
   "source": [
    "################## Using itertools\n",
    "start = timeit.default_timer()\n",
    "root = os.getcwd()\n",
    "for element in itertools.product(nums,opr,nums):\n",
    "    path = \"\"+ root + \"/generated_images/\" + str(element[0]+element[1]+element[2])\n",
    "    #Check if the directory already exists\n",
    "    if os.path.exists(path):    \n",
    "        #print (\"Directory %s replaced\" % path)\n",
    "        shutil.rmtree(path)\n",
    "    os.makedirs(path)\n",
    "    #create a series of random images for training\n",
    "    for i in range(10):    \n",
    "        eqn = np.concatenate((random.choice(nums[element[0]]), random.choice(opr[element[1]]), random.choice(nums[element[2]])), axis=1)\n",
    "        img = Image.fromarray(eqn , 'L')\n",
    "        img.save(path+\"/\"+str(i)+\".png\")\n",
    "stop = timeit.default_timer()\n",
    "print('Time: '+ str(stop-start))\n",
    "\n",
    "#9.85 sec 2nd method\n"
   ]
  },
  {
   "cell_type": "code",
   "execution_count": 14,
   "metadata": {},
   "outputs": [
    {
     "name": "stdout",
     "output_type": "stream",
     "text": "Test\n"
    }
   ],
   "source": [
    "############## Get all the current images into the library\n",
    "numbers_library.update(functions.get_all_data('generated_images'))"
   ]
  },
  {
   "cell_type": "code",
   "execution_count": 19,
   "metadata": {},
   "outputs": [
    {
     "name": "stdout",
     "output_type": "stream",
     "text": "(45, 139)\n[[255 255 255 ... 255 255 255]\n [255 255 255 ... 255 255 255]\n [255 255 255 ... 255 255 255]\n ...\n [255 254 253 ... 255 255 255]\n [254 255 255 ... 255 255 255]\n [255 251 255 ... 255 255 255]]\n"
    }
   ],
   "source": [
    "test2 = numbers_library['0times0'][3]\n",
    "print(test2.shape)\n",
    "print(test2)\n",
    "\n",
    "img2 = Image.fromarray(test2, \"L\" )\n",
    "img2.save(\"x.png\")"
   ]
  },
  {
   "cell_type": "code",
   "execution_count": 24,
   "metadata": {},
   "outputs": [
    {
     "name": "stdout",
     "output_type": "stream",
     "text": "All the different symbols and equations are: \n\ndict_keys(['div', 'times', 'sin', '9', '0', '7', '+', '6', '1', '8', 'cos', '-', 'sqrt', 'pi', 'log', 'theta', '!', '(', '=', '4', '3', ')', '2', '5', '5times5', '1div7', '1div0', '5times2', '2div8', '2div1', '1div9', '2div6', '7times3', '3div6', '0div9', '3div1', '7times4', '3div8', '0div0', '0div7', '2div7', '2div0', '1div8', '5times3', '1div1', '2div9', '1div6', '5times4', '0div6', '3div9', '0div1', '0div8', '3div0', '7times5', '7times2', '3div7', '7div7', '8times6', '5-7', '1+3', '9+0', '1+4', '8times1', '5-0', '7div0', '4div8', '3+9', '9+7', '7-4', '4div1', '3times2', '3+0', '8times8', '5-9', '7div9', '3+7', '9+9', '4div6', '3times5', '7-3', '7+8', '9-2', '5div6', '1-1', '5+5', '9-5', '6div9', '5+2', '1-6', '5div1', '5div8', '3-2', '6div0', '7+6', '1times4', '1-8', '1times3', '7+1', '6div7', '3-5', '9+8', '3+6', '7-2', '4div7', '3times4', '4div0', '3times3', '7-5', '3+1', '7div8', '8times9', '5-8', '7div1', '1+5', '8times0', '5-1', '4div9', '9+6', '3+8', '8times7', '5-6', '1+2', '7div6', '9+1', '1-9', '7+0', '3-4', '6div6', '1times2', '5div9', '1times5', '6div1', '3-3', '7+7', '9-4', '6div8', '5div0', '5+3', '1-7', '7+9', '9-3', '1-0', '5+4', '5div7', '4times4', '4times3', '9div4', '9div3', '8div3', '6times2', '8div4', '6times5', '9div2', '9div5', '4times2', '4times5', '8div5', '6times4', '8div2', '6times3', '9times7', '6+5', '2-1', '4+8', '2-6', '8-8', '9times0', '6+2', '4+6', '2times3', '0-2', '8-1', '9times9', '0-5', '2times4', '4+1', '2-8', '8-6', '2+3', '6-7', '0+9', '6-0', '2+4', '6-9', '8+3', '0times5', '0+0', '4-4', '8+4', '4-3', '0+7', '0times2', '0-4', '4+0', '2times5', '8-7', '2-9', '2times2', '4+7', '0-3', '8-0', '9times8', '8-9', '2-7', '6+3', '9times1', '6+4', '9times6', '2-0', '4+9', '8+5', '0times3', '4-2', '0+6', '6-8', '8+2', '0+1', '4-5', '0times4', '0+8', '6-1', '2+5', '2+2', '6-6', '3div2', '7times7', '7times0', '3div5', '7times9', '0div4', '0div3', '1div3', '5times1', '5times6', '1div4', '2div5', '2div2', '5times8', '0div2', '7times8', '0div5', '7times1', '3div4', '3div3', '7times6', '2div3', '5times9', '2div4', '1div5', '5times7', '5times0', '1div2', '3-8', '9-6', '5+1', '1-5', '5div2', '1times9', '9-1', '5div5', '1-2', '5+6', '1times0', '7+2', '3-6', '9-8', '6div4', '5+8', '6div3', '3-1', '7+5', '1times7', '1+7', '8times2', '5-3', '7div3', '3times8', '9+4', '7div4', '8times5', '5-4', '1+0', '9+3', '7-9', '3+4', '7-0', '4div5', '3times6', '1+9', '4div2', '3times1', '7-7', '3+3', '5+9', '1times6', '3-0', '6div2', '7+4', '7+3', '9-9', '6div5', '3-7', '1times1', '9-0', '1times8', '1-3', '5+7', '5div4', '9-7', '3-9', '5div3', '5+0', '1-4', '7-6', '4div3', '3times0', '3+2', '3+5', '4div4', '3times7', '7-1', '1+8', '8times4', '5-5', '1+1', '7div5', '9+2', '7-8', '7div2', '1+6', '8times3', '5-2', '3times9', '9+5', '8div7', '6times6', '8div0', '6times1', '6times8', '8div9', '4times0', '9div9', '4times7', '9div0', '4times9', '9div7', '6times9', '8div8', '8div1', '6times0', '8div6', '6times7', '9div6', '4times8', '9div1', '4times6', '9div8', '4times1', '6-3', '2+7', '8+9', '4-9', '0times8', '2+0', '6-4', '2+9', '8+7', '4-0', '0+4', '0times1', '8+0', '0times6', '0+3', '4-7', '2-5', '9times3', '6+1', '2times9', '0-8', '9times4', '6+6', '2-2', '0-6', '4+2', '2times7', '8-5', '2times0', '4+5', '0-1', '8-2', '6+8', '8+1', '0+2', '4-6', '0times7', '8+6', '2+8', '0times0', '4-1', '0+5', '0times9', '4-8', '2+1', '6-5', '6-2', '8+8', '2+6', '4+4', '2times1', '0-0', '8-3', '6+9', '0-7', '2times6', '4+3', '8-4', '6+7', '9times5', '2-3', '2-4', '6+0', '9times2', '2times8', '0-9'])\n"
    }
   ],
   "source": [
    "print('All the different symbols and equations are: \\n\\n'+ str(functions.getList(numbers_library)) )"
   ]
  },
  {
   "cell_type": "code",
   "execution_count": null,
   "metadata": {},
   "outputs": [],
   "source": []
  }
 ],
 "metadata": {
  "file_extension": ".py",
  "kernelspec": {
   "display_name": "Python 3",
   "language": "python",
   "name": "python3"
  },
  "language_info": {
   "codemirror_mode": {
    "name": "ipython",
    "version": 3
   },
   "file_extension": ".py",
   "mimetype": "text/x-python",
   "name": "python",
   "nbconvert_exporter": "python",
   "pygments_lexer": "ipython3",
   "version": "3.7.3-final"
  },
  "mimetype": "text/x-python",
  "name": "python",
  "npconvert_exporter": "python",
  "pygments_lexer": "ipython3",
  "version": 3
 },
 "nbformat": 4,
 "nbformat_minor": 2
}