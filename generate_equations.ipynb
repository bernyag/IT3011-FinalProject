{
 "cells": [
  {
   "cell_type": "code",
   "execution_count": 15,
   "metadata": {},
   "outputs": [],
   "source": [
    "import functions\n",
    "import os\n",
    "import random\n",
    "import shutil\n",
    "import numpy as np\n",
    "from PIL import Image\n",
    "import timeit\n",
    "import itertools\n"
   ]
  },
  {
   "cell_type": "markdown",
   "metadata": {},
   "source": [
    "First we import the data into a dictionary that contains all the grayscale values of our images"
   ]
  },
  {
   "cell_type": "code",
   "execution_count": 2,
   "metadata": {},
   "outputs": [],
   "source": [
    "all_data = functions.get_all_data()"
   ]
  },
  {
   "cell_type": "code",
   "execution_count": 3,
   "metadata": {},
   "outputs": [
    {
     "data": {
      "text/plain": "array([[255, 255, 255, ..., 255, 255, 255],\n       [255, 255, 255, ..., 255, 255, 255],\n       [255, 255, 255, ..., 255, 255, 255],\n       ...,\n       [255, 255, 255, ..., 255, 255, 255],\n       [255, 255, 255, ..., 255, 255, 255],\n       [255, 255, 255, ..., 255, 255, 255]], dtype=uint8)"
     },
     "execution_count": 3,
     "metadata": {},
     "output_type": "execute_result"
    }
   ],
   "source": [
    "all_data['1'][1]"
   ]
  },
  {
   "cell_type": "code",
   "execution_count": 8,
   "metadata": {},
   "outputs": [
    {
     "name": "stdout",
     "output_type": "stream",
     "text": "dict_keys(['div', 'times', 'sin', '9', '0', '7', '+', '6', '1', '8', 'cos', '-', 'sqrt', 'pi', 'log', 'theta', '!', '(', '=', '4', '3', ')', '2', '5'])\n"
    }
   ],
   "source": [
    "print(functions.getList(all_data)) "
   ]
  },
  {
   "cell_type": "code",
   "execution_count": 9,
   "metadata": {},
   "outputs": [],
   "source": [
    "numsKeys = [\"0\", \"1\", \"2\", \"3\", \"4\", \"5\", \"6\", \"7\", \"8\", \"9\"]\n",
    "oprKeys = [\"+\", \"-\", \"div\", \"times\"]\n",
    "filterByKey = lambda keys: {x: all_data[x] for x in keys}\n",
    "nums = filterByKey(numsKeys)\n",
    "opr = filterByKey(oprKeys)"
   ]
  },
  {
   "cell_type": "code",
   "execution_count": 25,
   "metadata": {},
   "outputs": [
    {
     "name": "stdout",
     "output_type": "stream",
     "text": "Time: 10.69649293600014\n"
    }
   ],
   "source": [
    "################## Using nested fors\n",
    "\n",
    "start = timeit.default_timer()\n",
    "root = os.getcwd()\n",
    "for num1 in nums:\n",
    "    for opr1 in opr:\n",
    "        for num2 in nums:\n",
    "            path = \"\"+ root + \"/generated_images/\" + num1 + opr1 + num2\n",
    "            \n",
    "            #Check if the directory already exists\n",
    "            if os.path.exists(path):    \n",
    "                #print (\"Directory %s replaced\" % path)\n",
    "                shutil.rmtree(path)\n",
    "            os.makedirs(path)\n",
    "            \n",
    "            #create a series of random images for training\n",
    "            for i in range(50):    \n",
    "                eqn = np.concatenate((random.choice(nums[num1]), random.choice(opr[opr1]), random.choice(nums[num2])), axis=1)\n",
    "                img = Image.fromarray(eqn , 'L')\n",
    "                img.save(path+\"/\"+str(i)+\".jpg\")\n",
    "stop = timeit.default_timer()\n",
    "print('Time: '+ str(stop-start))\n",
    "\n",
    "#8.14 sec 1st method\n"
   ]
  },
  {
   "cell_type": "code",
   "execution_count": 27,
   "metadata": {},
   "outputs": [
    {
     "name": "stdout",
     "output_type": "stream",
     "text": "Time: 8.507022503999906\n"
    }
   ],
   "source": [
    "################## Using itertools\n",
    "\n",
    "start = timeit.default_timer()\n",
    "root = os.getcwd()\n",
    "for element in itertools.product(nums,opr,nums):\n",
    "    path = \"\"+ root + \"/generated_images/\" + str(element[0]+element[1]+element[2])\n",
    "    #Check if the directory already exists\n",
    "    if os.path.exists(path):    \n",
    "        #print (\"Directory %s replaced\" % path)\n",
    "        shutil.rmtree(path)\n",
    "    os.makedirs(path)\n",
    "    #create a series of random images for training\n",
    "    for i in range(50):    \n",
    "        eqn = np.concatenate((random.choice(nums[element[0]]), random.choice(opr[element[1]]), random.choice(nums[element[2]])), axis=1)\n",
    "        img = Image.fromarray(eqn , 'L')\n",
    "        img.save(path+\"/\"+str(i)+\".jpg\")\n",
    "stop = timeit.default_timer()\n",
    "print('Time: '+ str(stop-start))\n",
    "\n",
    "#9.85 sec 2nd method\n"
   ]
  },
  {
   "cell_type": "code",
   "execution_count": null,
   "metadata": {},
   "outputs": [],
   "source": []
  }
 ],
 "metadata": {
  "file_extension": ".py",
  "kernelspec": {
   "display_name": "Python 3",
   "language": "python",
   "name": "python3"
  },
  "language_info": {
   "codemirror_mode": {
    "name": "ipython",
    "version": 3
   },
   "file_extension": ".py",
   "mimetype": "text/x-python",
   "name": "python",
   "nbconvert_exporter": "python",
   "pygments_lexer": "ipython3",
   "version": "3.7.3-final"
  },
  "mimetype": "text/x-python",
  "name": "python",
  "npconvert_exporter": "python",
  "pygments_lexer": "ipython3",
  "version": 3
 },
 "nbformat": 4,
 "nbformat_minor": 2
}