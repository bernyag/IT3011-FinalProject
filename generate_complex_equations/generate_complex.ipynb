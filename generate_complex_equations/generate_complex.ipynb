{
 "cells": [
  {
   "cell_type": "code",
   "execution_count": 2,
   "metadata": {},
   "outputs": [],
   "source": [
    "import functions\n",
    "import os\n",
    "import random\n",
    "import shutil\n",
    "import numpy as np\n",
    "from PIL import Image\n",
    "import timeit\n",
    "import itertools\n",
    "import cv2\n",
    "from matplotlib import pyplot as plt"
   ]
  },
  {
   "cell_type": "markdown",
   "metadata": {},
   "source": [
    "First we import the data into a dictionary that contains all the grayscale values of our images"
   ]
  },
  {
   "cell_type": "code",
   "execution_count": 24,
   "metadata": {},
   "outputs": [
    {
     "output_type": "stream",
     "name": "stdout",
     "text": "Test\n"
    }
   ],
   "source": [
    "numbers_library = functions.get_cv_array_from_images('../images_no_copies')"
   ]
  },
  {
   "cell_type": "code",
   "execution_count": 25,
   "metadata": {},
   "outputs": [
    {
     "output_type": "display_data",
     "data": {
      "text/plain": "<Figure size 432x288 with 1 Axes>",
      "image/svg+xml": "<?xml version=\"1.0\" encoding=\"utf-8\" standalone=\"no\"?>\n<!DOCTYPE svg PUBLIC \"-//W3C//DTD SVG 1.1//EN\"\n  \"http://www.w3.org/Graphics/SVG/1.1/DTD/svg11.dtd\">\n<!-- Created with matplotlib (https://matplotlib.org/) -->\n<svg height=\"249.901344pt\" version=\"1.1\" viewBox=\"0 0 251.565 249.901344\" width=\"251.565pt\" xmlns=\"http://www.w3.org/2000/svg\" xmlns:xlink=\"http://www.w3.org/1999/xlink\">\n <defs>\n  <style type=\"text/css\">\n*{stroke-linecap:butt;stroke-linejoin:round;}\n  </style>\n </defs>\n <g id=\"figure_1\">\n  <g id=\"patch_1\">\n   <path d=\"M 0 249.901344 \nL 251.565 249.901344 \nL 251.565 0 \nL 0 0 \nz\n\" style=\"fill:none;\"/>\n  </g>\n  <g id=\"axes_1\">\n   <g id=\"patch_2\">\n    <path d=\"M 26.925 226.023219 \nL 244.365 226.023219 \nL 244.365 8.583219 \nL 26.925 8.583219 \nz\n\" style=\"fill:#ffffff;\"/>\n   </g>\n   <g clip-path=\"url(#p6aff093475)\">\n    <image height=\"218\" id=\"imagea3196db6c2\" transform=\"scale(1 -1)translate(0 -218)\" width=\"218\" x=\"26.925\" xlink:href=\"data:image/png;base64,\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\" y=\"-8.023219\"/>\n   </g>\n   <g id=\"matplotlib.axis_1\">\n    <g id=\"xtick_1\">\n     <g id=\"line2d_1\">\n      <defs>\n       <path d=\"M 0 0 \nL 0 3.5 \n\" id=\"mf6607087da\" style=\"stroke:#000000;stroke-width:0.8;\"/>\n      </defs>\n      <g>\n       <use style=\"stroke:#000000;stroke-width:0.8;\" x=\"29.341\" xlink:href=\"#mf6607087da\" y=\"226.023219\"/>\n      </g>\n     </g>\n     <g id=\"text_1\">\n      <!-- 0 -->\n      <defs>\n       <path d=\"M 31.78125 66.40625 \nQ 24.171875 66.40625 20.328125 58.90625 \nQ 16.5 51.421875 16.5 36.375 \nQ 16.5 21.390625 20.328125 13.890625 \nQ 24.171875 6.390625 31.78125 6.390625 \nQ 39.453125 6.390625 43.28125 13.890625 \nQ 47.125 21.390625 47.125 36.375 \nQ 47.125 51.421875 43.28125 58.90625 \nQ 39.453125 66.40625 31.78125 66.40625 \nz\nM 31.78125 74.21875 \nQ 44.046875 74.21875 50.515625 64.515625 \nQ 56.984375 54.828125 56.984375 36.375 \nQ 56.984375 17.96875 50.515625 8.265625 \nQ 44.046875 -1.421875 31.78125 -1.421875 \nQ 19.53125 -1.421875 13.0625 8.265625 \nQ 6.59375 17.96875 6.59375 36.375 \nQ 6.59375 54.828125 13.0625 64.515625 \nQ 19.53125 74.21875 31.78125 74.21875 \nz\n\" id=\"DejaVuSans-48\"/>\n      </defs>\n      <g transform=\"translate(26.15975 240.621656)scale(0.1 -0.1)\">\n       <use xlink:href=\"#DejaVuSans-48\"/>\n      </g>\n     </g>\n    </g>\n    <g id=\"xtick_2\">\n     <g id=\"line2d_2\">\n      <g>\n       <use style=\"stroke:#000000;stroke-width:0.8;\" x=\"77.661\" xlink:href=\"#mf6607087da\" y=\"226.023219\"/>\n      </g>\n     </g>\n     <g id=\"text_2\">\n      <!-- 10 -->\n      <defs>\n       <path d=\"M 12.40625 8.296875 \nL 28.515625 8.296875 \nL 28.515625 63.921875 \nL 10.984375 60.40625 \nL 10.984375 69.390625 \nL 28.421875 72.90625 \nL 38.28125 72.90625 \nL 38.28125 8.296875 \nL 54.390625 8.296875 \nL 54.390625 0 \nL 12.40625 0 \nz\n\" id=\"DejaVuSans-49\"/>\n      </defs>\n      <g transform=\"translate(71.2985 240.621656)scale(0.1 -0.1)\">\n       <use xlink:href=\"#DejaVuSans-49\"/>\n       <use x=\"63.623047\" xlink:href=\"#DejaVuSans-48\"/>\n      </g>\n     </g>\n    </g>\n    <g id=\"xtick_3\">\n     <g id=\"line2d_3\">\n      <g>\n       <use style=\"stroke:#000000;stroke-width:0.8;\" x=\"125.981\" xlink:href=\"#mf6607087da\" y=\"226.023219\"/>\n      </g>\n     </g>\n     <g id=\"text_3\">\n      <!-- 20 -->\n      <defs>\n       <path d=\"M 19.1875 8.296875 \nL 53.609375 8.296875 \nL 53.609375 0 \nL 7.328125 0 \nL 7.328125 8.296875 \nQ 12.9375 14.109375 22.625 23.890625 \nQ 32.328125 33.6875 34.8125 36.53125 \nQ 39.546875 41.84375 41.421875 45.53125 \nQ 43.3125 49.21875 43.3125 52.78125 \nQ 43.3125 58.59375 39.234375 62.25 \nQ 35.15625 65.921875 28.609375 65.921875 \nQ 23.96875 65.921875 18.8125 64.3125 \nQ 13.671875 62.703125 7.8125 59.421875 \nL 7.8125 69.390625 \nQ 13.765625 71.78125 18.9375 73 \nQ 24.125 74.21875 28.421875 74.21875 \nQ 39.75 74.21875 46.484375 68.546875 \nQ 53.21875 62.890625 53.21875 53.421875 \nQ 53.21875 48.921875 51.53125 44.890625 \nQ 49.859375 40.875 45.40625 35.40625 \nQ 44.1875 33.984375 37.640625 27.21875 \nQ 31.109375 20.453125 19.1875 8.296875 \nz\n\" id=\"DejaVuSans-50\"/>\n      </defs>\n      <g transform=\"translate(119.6185 240.621656)scale(0.1 -0.1)\">\n       <use xlink:href=\"#DejaVuSans-50\"/>\n       <use x=\"63.623047\" xlink:href=\"#DejaVuSans-48\"/>\n      </g>\n     </g>\n    </g>\n    <g id=\"xtick_4\">\n     <g id=\"line2d_4\">\n      <g>\n       <use style=\"stroke:#000000;stroke-width:0.8;\" x=\"174.301\" xlink:href=\"#mf6607087da\" y=\"226.023219\"/>\n      </g>\n     </g>\n     <g id=\"text_4\">\n      <!-- 30 -->\n      <defs>\n       <path d=\"M 40.578125 39.3125 \nQ 47.65625 37.796875 51.625 33 \nQ 55.609375 28.21875 55.609375 21.1875 \nQ 55.609375 10.40625 48.1875 4.484375 \nQ 40.765625 -1.421875 27.09375 -1.421875 \nQ 22.515625 -1.421875 17.65625 -0.515625 \nQ 12.796875 0.390625 7.625 2.203125 \nL 7.625 11.71875 \nQ 11.71875 9.328125 16.59375 8.109375 \nQ 21.484375 6.890625 26.8125 6.890625 \nQ 36.078125 6.890625 40.9375 10.546875 \nQ 45.796875 14.203125 45.796875 21.1875 \nQ 45.796875 27.640625 41.28125 31.265625 \nQ 36.765625 34.90625 28.71875 34.90625 \nL 20.21875 34.90625 \nL 20.21875 43.015625 \nL 29.109375 43.015625 \nQ 36.375 43.015625 40.234375 45.921875 \nQ 44.09375 48.828125 44.09375 54.296875 \nQ 44.09375 59.90625 40.109375 62.90625 \nQ 36.140625 65.921875 28.71875 65.921875 \nQ 24.65625 65.921875 20.015625 65.03125 \nQ 15.375 64.15625 9.8125 62.3125 \nL 9.8125 71.09375 \nQ 15.4375 72.65625 20.34375 73.4375 \nQ 25.25 74.21875 29.59375 74.21875 \nQ 40.828125 74.21875 47.359375 69.109375 \nQ 53.90625 64.015625 53.90625 55.328125 \nQ 53.90625 49.265625 50.4375 45.09375 \nQ 46.96875 40.921875 40.578125 39.3125 \nz\n\" id=\"DejaVuSans-51\"/>\n      </defs>\n      <g transform=\"translate(167.9385 240.621656)scale(0.1 -0.1)\">\n       <use xlink:href=\"#DejaVuSans-51\"/>\n       <use x=\"63.623047\" xlink:href=\"#DejaVuSans-48\"/>\n      </g>\n     </g>\n    </g>\n    <g id=\"xtick_5\">\n     <g id=\"line2d_5\">\n      <g>\n       <use style=\"stroke:#000000;stroke-width:0.8;\" x=\"222.621\" xlink:href=\"#mf6607087da\" y=\"226.023219\"/>\n      </g>\n     </g>\n     <g id=\"text_5\">\n      <!-- 40 -->\n      <defs>\n       <path d=\"M 37.796875 64.3125 \nL 12.890625 25.390625 \nL 37.796875 25.390625 \nz\nM 35.203125 72.90625 \nL 47.609375 72.90625 \nL 47.609375 25.390625 \nL 58.015625 25.390625 \nL 58.015625 17.1875 \nL 47.609375 17.1875 \nL 47.609375 0 \nL 37.796875 0 \nL 37.796875 17.1875 \nL 4.890625 17.1875 \nL 4.890625 26.703125 \nz\n\" id=\"DejaVuSans-52\"/>\n      </defs>\n      <g transform=\"translate(216.2585 240.621656)scale(0.1 -0.1)\">\n       <use xlink:href=\"#DejaVuSans-52\"/>\n       <use x=\"63.623047\" xlink:href=\"#DejaVuSans-48\"/>\n      </g>\n     </g>\n    </g>\n   </g>\n   <g id=\"matplotlib.axis_2\">\n    <g id=\"ytick_1\">\n     <g id=\"line2d_6\">\n      <defs>\n       <path d=\"M 0 0 \nL -3.5 0 \n\" id=\"m2c32108970\" style=\"stroke:#000000;stroke-width:0.8;\"/>\n      </defs>\n      <g>\n       <use style=\"stroke:#000000;stroke-width:0.8;\" x=\"26.925\" xlink:href=\"#m2c32108970\" y=\"10.999219\"/>\n      </g>\n     </g>\n     <g id=\"text_6\">\n      <!-- 0 -->\n      <g transform=\"translate(13.5625 14.798437)scale(0.1 -0.1)\">\n       <use xlink:href=\"#DejaVuSans-48\"/>\n      </g>\n     </g>\n    </g>\n    <g id=\"ytick_2\">\n     <g id=\"line2d_7\">\n      <g>\n       <use style=\"stroke:#000000;stroke-width:0.8;\" x=\"26.925\" xlink:href=\"#m2c32108970\" y=\"35.159219\"/>\n      </g>\n     </g>\n     <g id=\"text_7\">\n      <!-- 5 -->\n      <defs>\n       <path d=\"M 10.796875 72.90625 \nL 49.515625 72.90625 \nL 49.515625 64.59375 \nL 19.828125 64.59375 \nL 19.828125 46.734375 \nQ 21.96875 47.46875 24.109375 47.828125 \nQ 26.265625 48.1875 28.421875 48.1875 \nQ 40.625 48.1875 47.75 41.5 \nQ 54.890625 34.8125 54.890625 23.390625 \nQ 54.890625 11.625 47.5625 5.09375 \nQ 40.234375 -1.421875 26.90625 -1.421875 \nQ 22.3125 -1.421875 17.546875 -0.640625 \nQ 12.796875 0.140625 7.71875 1.703125 \nL 7.71875 11.625 \nQ 12.109375 9.234375 16.796875 8.0625 \nQ 21.484375 6.890625 26.703125 6.890625 \nQ 35.15625 6.890625 40.078125 11.328125 \nQ 45.015625 15.765625 45.015625 23.390625 \nQ 45.015625 31 40.078125 35.4375 \nQ 35.15625 39.890625 26.703125 39.890625 \nQ 22.75 39.890625 18.8125 39.015625 \nQ 14.890625 38.140625 10.796875 36.28125 \nz\n\" id=\"DejaVuSans-53\"/>\n      </defs>\n      <g transform=\"translate(13.5625 38.958437)scale(0.1 -0.1)\">\n       <use xlink:href=\"#DejaVuSans-53\"/>\n      </g>\n     </g>\n    </g>\n    <g id=\"ytick_3\">\n     <g id=\"line2d_8\">\n      <g>\n       <use style=\"stroke:#000000;stroke-width:0.8;\" x=\"26.925\" xlink:href=\"#m2c32108970\" y=\"59.319219\"/>\n      </g>\n     </g>\n     <g id=\"text_8\">\n      <!-- 10 -->\n      <g transform=\"translate(7.2 63.118437)scale(0.1 -0.1)\">\n       <use xlink:href=\"#DejaVuSans-49\"/>\n       <use x=\"63.623047\" xlink:href=\"#DejaVuSans-48\"/>\n      </g>\n     </g>\n    </g>\n    <g id=\"ytick_4\">\n     <g id=\"line2d_9\">\n      <g>\n       <use style=\"stroke:#000000;stroke-width:0.8;\" x=\"26.925\" xlink:href=\"#m2c32108970\" y=\"83.479219\"/>\n      </g>\n     </g>\n     <g id=\"text_9\">\n      <!-- 15 -->\n      <g transform=\"translate(7.2 87.278437)scale(0.1 -0.1)\">\n       <use xlink:href=\"#DejaVuSans-49\"/>\n       <use x=\"63.623047\" xlink:href=\"#DejaVuSans-53\"/>\n      </g>\n     </g>\n    </g>\n    <g id=\"ytick_5\">\n     <g id=\"line2d_10\">\n      <g>\n       <use style=\"stroke:#000000;stroke-width:0.8;\" x=\"26.925\" xlink:href=\"#m2c32108970\" y=\"107.639219\"/>\n      </g>\n     </g>\n     <g id=\"text_10\">\n      <!-- 20 -->\n      <g transform=\"translate(7.2 111.438437)scale(0.1 -0.1)\">\n       <use xlink:href=\"#DejaVuSans-50\"/>\n       <use x=\"63.623047\" xlink:href=\"#DejaVuSans-48\"/>\n      </g>\n     </g>\n    </g>\n    <g id=\"ytick_6\">\n     <g id=\"line2d_11\">\n      <g>\n       <use style=\"stroke:#000000;stroke-width:0.8;\" x=\"26.925\" xlink:href=\"#m2c32108970\" y=\"131.799219\"/>\n      </g>\n     </g>\n     <g id=\"text_11\">\n      <!-- 25 -->\n      <g transform=\"translate(7.2 135.598437)scale(0.1 -0.1)\">\n       <use xlink:href=\"#DejaVuSans-50\"/>\n       <use x=\"63.623047\" xlink:href=\"#DejaVuSans-53\"/>\n      </g>\n     </g>\n    </g>\n    <g id=\"ytick_7\">\n     <g id=\"line2d_12\">\n      <g>\n       <use style=\"stroke:#000000;stroke-width:0.8;\" x=\"26.925\" xlink:href=\"#m2c32108970\" y=\"155.959219\"/>\n      </g>\n     </g>\n     <g id=\"text_12\">\n      <!-- 30 -->\n      <g transform=\"translate(7.2 159.758437)scale(0.1 -0.1)\">\n       <use xlink:href=\"#DejaVuSans-51\"/>\n       <use x=\"63.623047\" xlink:href=\"#DejaVuSans-48\"/>\n      </g>\n     </g>\n    </g>\n    <g id=\"ytick_8\">\n     <g id=\"line2d_13\">\n      <g>\n       <use style=\"stroke:#000000;stroke-width:0.8;\" x=\"26.925\" xlink:href=\"#m2c32108970\" y=\"180.119219\"/>\n      </g>\n     </g>\n     <g id=\"text_13\">\n      <!-- 35 -->\n      <g transform=\"translate(7.2 183.918437)scale(0.1 -0.1)\">\n       <use xlink:href=\"#DejaVuSans-51\"/>\n       <use x=\"63.623047\" xlink:href=\"#DejaVuSans-53\"/>\n      </g>\n     </g>\n    </g>\n    <g id=\"ytick_9\">\n     <g id=\"line2d_14\">\n      <g>\n       <use style=\"stroke:#000000;stroke-width:0.8;\" x=\"26.925\" xlink:href=\"#m2c32108970\" y=\"204.279219\"/>\n      </g>\n     </g>\n     <g id=\"text_14\">\n      <!-- 40 -->\n      <g transform=\"translate(7.2 208.078437)scale(0.1 -0.1)\">\n       <use xlink:href=\"#DejaVuSans-52\"/>\n       <use x=\"63.623047\" xlink:href=\"#DejaVuSans-48\"/>\n      </g>\n     </g>\n    </g>\n   </g>\n   <g id=\"patch_3\">\n    <path d=\"M 26.925 226.023219 \nL 26.925 8.583219 \n\" style=\"fill:none;stroke:#000000;stroke-linecap:square;stroke-linejoin:miter;stroke-width:0.8;\"/>\n   </g>\n   <g id=\"patch_4\">\n    <path d=\"M 244.365 226.023219 \nL 244.365 8.583219 \n\" style=\"fill:none;stroke:#000000;stroke-linecap:square;stroke-linejoin:miter;stroke-width:0.8;\"/>\n   </g>\n   <g id=\"patch_5\">\n    <path d=\"M 26.925 226.023219 \nL 244.365 226.023219 \n\" style=\"fill:none;stroke:#000000;stroke-linecap:square;stroke-linejoin:miter;stroke-width:0.8;\"/>\n   </g>\n   <g id=\"patch_6\">\n    <path d=\"M 26.925 8.583219 \nL 244.365 8.583219 \n\" style=\"fill:none;stroke:#000000;stroke-linecap:square;stroke-linejoin:miter;stroke-width:0.8;\"/>\n   </g>\n  </g>\n </g>\n <defs>\n  <clipPath id=\"p6aff093475\">\n   <rect height=\"217.44\" width=\"217.44\" x=\"26.925\" y=\"8.583219\"/>\n  </clipPath>\n </defs>\n</svg>\n",
      "image/png": "[encoded data removed]"
     },
     "metadata": {
      "needs_background": "light"
     }
    }
   ],
   "source": [
    "test = numbers_library['1'][7]\n",
    "plt.imshow(test)\n",
    "plt.show()"
   ]
  },
  {
   "cell_type": "code",
   "execution_count": 26,
   "metadata": {},
   "outputs": [
    {
     "output_type": "stream",
     "name": "stdout",
     "text": "dict_keys(['+', '9', '6', 'div', '1', '5', '8', '7', '0', '2', '3', 'times', '-', '4'])\n"
    }
   ],
   "source": [
    "print(functions.getList(numbers_library)) "
   ]
  },
  {
   "cell_type": "code",
   "execution_count": 28,
   "metadata": {},
   "outputs": [
    {
     "output_type": "stream",
     "name": "stdout",
     "text": "dict_keys(['+', '-', 'div', 'times'])\n"
    }
   ],
   "source": [
    "numsKeys = [\"0\", \"1\", \"2\", \"3\", \"4\", \"5\", \"6\", \"7\", \"8\", \"9\"]\n",
    "oprKeys = [\"+\", \"-\", \"div\", \"times\"]\n",
    "filterByKey = lambda keys: {x: numbers_library[x] for x in keys}\n",
    "nums = filterByKey(numsKeys)\n",
    "opr = filterByKey(oprKeys)\n",
    "print(opr.keys())\n"
   ]
  },
  {
   "cell_type": "code",
   "execution_count": 37,
   "metadata": {},
   "outputs": [],
   "source": [
    "def generate_image(symbols):\n",
    "    # height of characters is 45. lets place each in a 80 by 80 box with 1 empty line in between\n",
    "    img_size = 45\n",
    "    img_target_size = 80\n",
    "    n_symbols = len(symbols)\n",
    "    COLOR_WHITE = (255,255,255)\n",
    "\n",
    "    symbols_rand_pos = []\n",
    "    for symbol in symbols:\n",
    "        left_border = random.choice(range(img_target_size - img_size + 1))\n",
    "        top_border = random.choice(range(img_target_size - img_size + 1)) # 0...35\n",
    "        right_border = img_target_size - img_size - left_border\n",
    "        bottom_border = img_target_size - img_size - top_border\n",
    "        #print(symbol)\n",
    "        img = cv2.copyMakeBorder(\n",
    "            symbol, \n",
    "            top_border, bottom_border, left_border, right_border + 1, # so we get one white line between each img \n",
    "            cv2.BORDER_CONSTANT, None, COLOR_WHITE)\n",
    "        \n",
    "        symbols_rand_pos.append(img)\n",
    "\n",
    "    return np.concatenate(symbols_rand_pos, axis=1)\n",
    "    "
   ]
  },
  {
   "cell_type": "code",
   "execution_count": 43,
   "metadata": {},
   "outputs": [
    {
     "output_type": "stream",
     "name": "stdout",
     "text": "5+3\n"
    },
    {
     "output_type": "display_data",
     "data": {
      "text/plain": "<Figure size 432x288 with 1 Axes>",
      "image/svg+xml": "<?xml version=\"1.0\" encoding=\"utf-8\" standalone=\"no\"?>\n<!DOCTYPE svg PUBLIC \"-//W3C//DTD SVG 1.1//EN\"\n  \"http://www.w3.org/Graphics/SVG/1.1/DTD/svg11.dtd\">\n<!-- Created with matplotlib (https://matplotlib.org/) -->\n<svg height=\"144.410677pt\" version=\"1.1\" viewBox=\"0 0 368.925 144.410677\" width=\"368.925pt\" xmlns=\"http://www.w3.org/2000/svg\" xmlns:xlink=\"http://www.w3.org/1999/xlink\">\n <defs>\n  <style type=\"text/css\">\n*{stroke-linecap:butt;stroke-linejoin:round;}\n  </style>\n </defs>\n <g id=\"figure_1\">\n  <g id=\"patch_1\">\n   <path d=\"M -0 144.410677 \nL 368.925 144.410677 \nL 368.925 0 \nL -0 0 \nz\n\" style=\"fill:none;\"/>\n  </g>\n  <g id=\"axes_1\">\n   <g id=\"patch_2\">\n    <path d=\"M 26.925 120.532552 \nL 361.725 120.532552 \nL 361.725 10.31033 \nL 26.925 10.31033 \nz\n\" style=\"fill:#ffffff;\"/>\n   </g>\n   <g clip-path=\"url(#pf0d30a9e4a)\">\n    <image height=\"111\" id=\"image811d104983\" transform=\"scale(1 -1)translate(0 -111)\" width=\"335\" x=\"26.925\" xlink:href=\"data:image/png;base64,\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\" y=\"-9.532552\"/>\n   </g>\n   <g id=\"matplotlib.axis_1\">\n    <g id=\"xtick_1\">\n     <g id=\"line2d_1\">\n      <defs>\n       <path d=\"M 0 0 \nL 0 3.5 \n\" id=\"me6760c30ac\" style=\"stroke:#000000;stroke-width:0.8;\"/>\n      </defs>\n      <g>\n       <use style=\"stroke:#000000;stroke-width:0.8;\" x=\"27.613889\" xlink:href=\"#me6760c30ac\" y=\"120.532552\"/>\n      </g>\n     </g>\n     <g id=\"text_1\">\n      <!-- 0 -->\n      <defs>\n       <path d=\"M 31.78125 66.40625 \nQ 24.171875 66.40625 20.328125 58.90625 \nQ 16.5 51.421875 16.5 36.375 \nQ 16.5 21.390625 20.328125 13.890625 \nQ 24.171875 6.390625 31.78125 6.390625 \nQ 39.453125 6.390625 43.28125 13.890625 \nQ 47.125 21.390625 47.125 36.375 \nQ 47.125 51.421875 43.28125 58.90625 \nQ 39.453125 66.40625 31.78125 66.40625 \nz\nM 31.78125 74.21875 \nQ 44.046875 74.21875 50.515625 64.515625 \nQ 56.984375 54.828125 56.984375 36.375 \nQ 56.984375 17.96875 50.515625 8.265625 \nQ 44.046875 -1.421875 31.78125 -1.421875 \nQ 19.53125 -1.421875 13.0625 8.265625 \nQ 6.59375 17.96875 6.59375 36.375 \nQ 6.59375 54.828125 13.0625 64.515625 \nQ 19.53125 74.21875 31.78125 74.21875 \nz\n\" id=\"DejaVuSans-48\"/>\n      </defs>\n      <g transform=\"translate(24.432639 135.13099)scale(0.1 -0.1)\">\n       <use xlink:href=\"#DejaVuSans-48\"/>\n      </g>\n     </g>\n    </g>\n    <g id=\"xtick_2\">\n     <g id=\"line2d_2\">\n      <g>\n       <use style=\"stroke:#000000;stroke-width:0.8;\" x=\"96.502778\" xlink:href=\"#me6760c30ac\" y=\"120.532552\"/>\n      </g>\n     </g>\n     <g id=\"text_2\">\n      <!-- 50 -->\n      <defs>\n       <path d=\"M 10.796875 72.90625 \nL 49.515625 72.90625 \nL 49.515625 64.59375 \nL 19.828125 64.59375 \nL 19.828125 46.734375 \nQ 21.96875 47.46875 24.109375 47.828125 \nQ 26.265625 48.1875 28.421875 48.1875 \nQ 40.625 48.1875 47.75 41.5 \nQ 54.890625 34.8125 54.890625 23.390625 \nQ 54.890625 11.625 47.5625 5.09375 \nQ 40.234375 -1.421875 26.90625 -1.421875 \nQ 22.3125 -1.421875 17.546875 -0.640625 \nQ 12.796875 0.140625 7.71875 1.703125 \nL 7.71875 11.625 \nQ 12.109375 9.234375 16.796875 8.0625 \nQ 21.484375 6.890625 26.703125 6.890625 \nQ 35.15625 6.890625 40.078125 11.328125 \nQ 45.015625 15.765625 45.015625 23.390625 \nQ 45.015625 31 40.078125 35.4375 \nQ 35.15625 39.890625 26.703125 39.890625 \nQ 22.75 39.890625 18.8125 39.015625 \nQ 14.890625 38.140625 10.796875 36.28125 \nz\n\" id=\"DejaVuSans-53\"/>\n      </defs>\n      <g transform=\"translate(90.140278 135.13099)scale(0.1 -0.1)\">\n       <use xlink:href=\"#DejaVuSans-53\"/>\n       <use x=\"63.623047\" xlink:href=\"#DejaVuSans-48\"/>\n      </g>\n     </g>\n    </g>\n    <g id=\"xtick_3\">\n     <g id=\"line2d_3\">\n      <g>\n       <use style=\"stroke:#000000;stroke-width:0.8;\" x=\"165.391667\" xlink:href=\"#me6760c30ac\" y=\"120.532552\"/>\n      </g>\n     </g>\n     <g id=\"text_3\">\n      <!-- 100 -->\n      <defs>\n       <path d=\"M 12.40625 8.296875 \nL 28.515625 8.296875 \nL 28.515625 63.921875 \nL 10.984375 60.40625 \nL 10.984375 69.390625 \nL 28.421875 72.90625 \nL 38.28125 72.90625 \nL 38.28125 8.296875 \nL 54.390625 8.296875 \nL 54.390625 0 \nL 12.40625 0 \nz\n\" id=\"DejaVuSans-49\"/>\n      </defs>\n      <g transform=\"translate(155.847917 135.13099)scale(0.1 -0.1)\">\n       <use xlink:href=\"#DejaVuSans-49\"/>\n       <use x=\"63.623047\" xlink:href=\"#DejaVuSans-48\"/>\n       <use x=\"127.246094\" xlink:href=\"#DejaVuSans-48\"/>\n      </g>\n     </g>\n    </g>\n    <g id=\"xtick_4\">\n     <g id=\"line2d_4\">\n      <g>\n       <use style=\"stroke:#000000;stroke-width:0.8;\" x=\"234.280556\" xlink:href=\"#me6760c30ac\" y=\"120.532552\"/>\n      </g>\n     </g>\n     <g id=\"text_4\">\n      <!-- 150 -->\n      <g transform=\"translate(224.736806 135.13099)scale(0.1 -0.1)\">\n       <use xlink:href=\"#DejaVuSans-49\"/>\n       <use x=\"63.623047\" xlink:href=\"#DejaVuSans-53\"/>\n       <use x=\"127.246094\" xlink:href=\"#DejaVuSans-48\"/>\n      </g>\n     </g>\n    </g>\n    <g id=\"xtick_5\">\n     <g id=\"line2d_5\">\n      <g>\n       <use style=\"stroke:#000000;stroke-width:0.8;\" x=\"303.169444\" xlink:href=\"#me6760c30ac\" y=\"120.532552\"/>\n      </g>\n     </g>\n     <g id=\"text_5\">\n      <!-- 200 -->\n      <defs>\n       <path d=\"M 19.1875 8.296875 \nL 53.609375 8.296875 \nL 53.609375 0 \nL 7.328125 0 \nL 7.328125 8.296875 \nQ 12.9375 14.109375 22.625 23.890625 \nQ 32.328125 33.6875 34.8125 36.53125 \nQ 39.546875 41.84375 41.421875 45.53125 \nQ 43.3125 49.21875 43.3125 52.78125 \nQ 43.3125 58.59375 39.234375 62.25 \nQ 35.15625 65.921875 28.609375 65.921875 \nQ 23.96875 65.921875 18.8125 64.3125 \nQ 13.671875 62.703125 7.8125 59.421875 \nL 7.8125 69.390625 \nQ 13.765625 71.78125 18.9375 73 \nQ 24.125 74.21875 28.421875 74.21875 \nQ 39.75 74.21875 46.484375 68.546875 \nQ 53.21875 62.890625 53.21875 53.421875 \nQ 53.21875 48.921875 51.53125 44.890625 \nQ 49.859375 40.875 45.40625 35.40625 \nQ 44.1875 33.984375 37.640625 27.21875 \nQ 31.109375 20.453125 19.1875 8.296875 \nz\n\" id=\"DejaVuSans-50\"/>\n      </defs>\n      <g transform=\"translate(293.625694 135.13099)scale(0.1 -0.1)\">\n       <use xlink:href=\"#DejaVuSans-50\"/>\n       <use x=\"63.623047\" xlink:href=\"#DejaVuSans-48\"/>\n       <use x=\"127.246094\" xlink:href=\"#DejaVuSans-48\"/>\n      </g>\n     </g>\n    </g>\n   </g>\n   <g id=\"matplotlib.axis_2\">\n    <g id=\"ytick_1\">\n     <g id=\"line2d_6\">\n      <defs>\n       <path d=\"M 0 0 \nL -3.5 0 \n\" id=\"md8ee993103\" style=\"stroke:#000000;stroke-width:0.8;\"/>\n      </defs>\n      <g>\n       <use style=\"stroke:#000000;stroke-width:0.8;\" x=\"26.925\" xlink:href=\"#md8ee993103\" y=\"10.999219\"/>\n      </g>\n     </g>\n     <g id=\"text_6\">\n      <!-- 0 -->\n      <g transform=\"translate(13.5625 14.798437)scale(0.1 -0.1)\">\n       <use xlink:href=\"#DejaVuSans-48\"/>\n      </g>\n     </g>\n    </g>\n    <g id=\"ytick_2\">\n     <g id=\"line2d_7\">\n      <g>\n       <use style=\"stroke:#000000;stroke-width:0.8;\" x=\"26.925\" xlink:href=\"#md8ee993103\" y=\"38.554774\"/>\n      </g>\n     </g>\n     <g id=\"text_7\">\n      <!-- 20 -->\n      <g transform=\"translate(7.2 42.353993)scale(0.1 -0.1)\">\n       <use xlink:href=\"#DejaVuSans-50\"/>\n       <use x=\"63.623047\" xlink:href=\"#DejaVuSans-48\"/>\n      </g>\n     </g>\n    </g>\n    <g id=\"ytick_3\">\n     <g id=\"line2d_8\">\n      <g>\n       <use style=\"stroke:#000000;stroke-width:0.8;\" x=\"26.925\" xlink:href=\"#md8ee993103\" y=\"66.11033\"/>\n      </g>\n     </g>\n     <g id=\"text_8\">\n      <!-- 40 -->\n      <defs>\n       <path d=\"M 37.796875 64.3125 \nL 12.890625 25.390625 \nL 37.796875 25.390625 \nz\nM 35.203125 72.90625 \nL 47.609375 72.90625 \nL 47.609375 25.390625 \nL 58.015625 25.390625 \nL 58.015625 17.1875 \nL 47.609375 17.1875 \nL 47.609375 0 \nL 37.796875 0 \nL 37.796875 17.1875 \nL 4.890625 17.1875 \nL 4.890625 26.703125 \nz\n\" id=\"DejaVuSans-52\"/>\n      </defs>\n      <g transform=\"translate(7.2 69.909549)scale(0.1 -0.1)\">\n       <use xlink:href=\"#DejaVuSans-52\"/>\n       <use x=\"63.623047\" xlink:href=\"#DejaVuSans-48\"/>\n      </g>\n     </g>\n    </g>\n    <g id=\"ytick_4\">\n     <g id=\"line2d_9\">\n      <g>\n       <use style=\"stroke:#000000;stroke-width:0.8;\" x=\"26.925\" xlink:href=\"#md8ee993103\" y=\"93.665885\"/>\n      </g>\n     </g>\n     <g id=\"text_9\">\n      <!-- 60 -->\n      <defs>\n       <path d=\"M 33.015625 40.375 \nQ 26.375 40.375 22.484375 35.828125 \nQ 18.609375 31.296875 18.609375 23.390625 \nQ 18.609375 15.53125 22.484375 10.953125 \nQ 26.375 6.390625 33.015625 6.390625 \nQ 39.65625 6.390625 43.53125 10.953125 \nQ 47.40625 15.53125 47.40625 23.390625 \nQ 47.40625 31.296875 43.53125 35.828125 \nQ 39.65625 40.375 33.015625 40.375 \nz\nM 52.59375 71.296875 \nL 52.59375 62.3125 \nQ 48.875 64.0625 45.09375 64.984375 \nQ 41.3125 65.921875 37.59375 65.921875 \nQ 27.828125 65.921875 22.671875 59.328125 \nQ 17.53125 52.734375 16.796875 39.40625 \nQ 19.671875 43.65625 24.015625 45.921875 \nQ 28.375 48.1875 33.59375 48.1875 \nQ 44.578125 48.1875 50.953125 41.515625 \nQ 57.328125 34.859375 57.328125 23.390625 \nQ 57.328125 12.15625 50.6875 5.359375 \nQ 44.046875 -1.421875 33.015625 -1.421875 \nQ 20.359375 -1.421875 13.671875 8.265625 \nQ 6.984375 17.96875 6.984375 36.375 \nQ 6.984375 53.65625 15.1875 63.9375 \nQ 23.390625 74.21875 37.203125 74.21875 \nQ 40.921875 74.21875 44.703125 73.484375 \nQ 48.484375 72.75 52.59375 71.296875 \nz\n\" id=\"DejaVuSans-54\"/>\n      </defs>\n      <g transform=\"translate(7.2 97.465104)scale(0.1 -0.1)\">\n       <use xlink:href=\"#DejaVuSans-54\"/>\n       <use x=\"63.623047\" xlink:href=\"#DejaVuSans-48\"/>\n      </g>\n     </g>\n    </g>\n   </g>\n   <g id=\"patch_3\">\n    <path d=\"M 26.925 120.532552 \nL 26.925 10.31033 \n\" style=\"fill:none;stroke:#000000;stroke-linecap:square;stroke-linejoin:miter;stroke-width:0.8;\"/>\n   </g>\n   <g id=\"patch_4\">\n    <path d=\"M 361.725 120.532552 \nL 361.725 10.31033 \n\" style=\"fill:none;stroke:#000000;stroke-linecap:square;stroke-linejoin:miter;stroke-width:0.8;\"/>\n   </g>\n   <g id=\"patch_5\">\n    <path d=\"M 26.925 120.532552 \nL 361.725 120.532552 \n\" style=\"fill:none;stroke:#000000;stroke-linecap:square;stroke-linejoin:miter;stroke-width:0.8;\"/>\n   </g>\n   <g id=\"patch_6\">\n    <path d=\"M 26.925 10.31033 \nL 361.725 10.31033 \n\" style=\"fill:none;stroke:#000000;stroke-linecap:square;stroke-linejoin:miter;stroke-width:0.8;\"/>\n   </g>\n  </g>\n </g>\n <defs>\n  <clipPath id=\"pf0d30a9e4a\">\n   <rect height=\"110.222222\" width=\"334.8\" x=\"26.925\" y=\"10.31033\"/>\n  </clipPath>\n </defs>\n</svg>\n",
      "image/png": "[encoded data removed]"
     },
     "metadata": {
      "needs_background": "light"
     }
    }
   ],
   "source": [
    "symbols = [\"5\", \"+\", \"3\"]\n",
    "equ_name = \"\".join(symbols)\n",
    "print(equ_name)\n",
    "path = \"\"+ root + \"/../complex_img/\" + equ_name\n",
    "#Check if the directory already exists\n",
    "if os.path.exists(path):    \n",
    "    #print (\"Directory %s replaced\" % path)\n",
    "    shutil.rmtree(path)\n",
    "os.makedirs(path)\n",
    "#create a series of random images for training\n",
    "for i in range(10): \n",
    "    selected_syms = [random.choice(numbers_library[sym_name]) for sym_name in symbols]    \n",
    "    eqn = generate_image(selected_syms)\n",
    "    plt.imshow(eqn)\n",
    "    \n",
    "    cv2.imwrite(path+\"/\"+str(i)+\".png\", eqn)\n",
    "    break\n",
    "plt.show()"
   ]
  },
  {
   "cell_type": "code",
   "execution_count": 45,
   "metadata": {},
   "outputs": [
    {
     "output_type": "stream",
     "name": "stdout",
     "text": "Time: 54.15632586100037\n"
    }
   ],
   "source": [
    "################## Using itertools\n",
    "start = timeit.default_timer()\n",
    "root = os.getcwd()\n",
    "for symbols in itertools.product(nums,opr,nums, opr, nums):\n",
    "    equ_name = \"\".join(symbols)\n",
    "    #print(equ_name)\n",
    "    path = \"\"+ root + \"/../very_complex_img/\" + equ_name\n",
    "    #Check if the directory already exists\n",
    "    if os.path.exists(path):    \n",
    "        #print (\"Directory %s replaced\" % path)\n",
    "        shutil.rmtree(path)\n",
    "    os.makedirs(path)\n",
    "    #create a series of random images for training\n",
    "    for i in range(10): \n",
    "        selected_syms = [random.choice(numbers_library[sym_name]) for sym_name in symbols]    \n",
    "        eqn = generate_image(selected_syms)\n",
    "\n",
    "\n",
    "        cv2.imwrite(path+\"/\"+str(i)+\".png\", eqn)\n",
    "stop = timeit.default_timer()\n",
    "print('Time: '+ str(stop-start))\n",
    "\n",
    "#9.85 sec 2nd method\n",
    ""
   ]
  },
  {
   "cell_type": "code",
   "execution_count": 11,
   "metadata": {},
   "outputs": [
    {
     "name": "stdout",
     "output_type": "stream",
     "text": "Test\n"
    }
   ],
   "source": [
    "############## Get all the current images into the library\n",
    "numbers_library.update(functions.get_array_from_images('../generated_images'))"
   ]
  },
  {
   "cell_type": "code",
   "execution_count": 7,
   "metadata": {},
   "outputs": [
    {
     "output_type": "error",
     "ename": "KeyError",
     "evalue": "'0times0'",
     "traceback": [
      "\u001b[0;31m---------------------------------------------------------------------------\u001b[0m",
      "\u001b[0;31mKeyError\u001b[0m                                  Traceback (most recent call last)",
      "\u001b[0;32m<ipython-input-7-e26e18064ada>\u001b[0m in \u001b[0;36m<module>\u001b[0;34m\u001b[0m\n\u001b[0;32m----> 1\u001b[0;31m \u001b[0mtest2\u001b[0m \u001b[0;34m=\u001b[0m \u001b[0mnumbers_library\u001b[0m\u001b[0;34m[\u001b[0m\u001b[0;34m'0times0'\u001b[0m\u001b[0;34m]\u001b[0m\u001b[0;34m[\u001b[0m\u001b[0;36m6\u001b[0m\u001b[0;34m]\u001b[0m\u001b[0;34m\u001b[0m\u001b[0;34m\u001b[0m\u001b[0m\n\u001b[0m\u001b[1;32m      2\u001b[0m \u001b[0mprint\u001b[0m\u001b[0;34m(\u001b[0m\u001b[0mtest2\u001b[0m\u001b[0;34m.\u001b[0m\u001b[0mshape\u001b[0m\u001b[0;34m)\u001b[0m\u001b[0;34m\u001b[0m\u001b[0;34m\u001b[0m\u001b[0m\n\u001b[1;32m      3\u001b[0m \u001b[0mprint\u001b[0m\u001b[0;34m(\u001b[0m\u001b[0mtest2\u001b[0m\u001b[0;34m)\u001b[0m\u001b[0;34m\u001b[0m\u001b[0;34m\u001b[0m\u001b[0m\n\u001b[1;32m      4\u001b[0m \u001b[0;34m\u001b[0m\u001b[0m\n\u001b[1;32m      5\u001b[0m \u001b[0mimg2\u001b[0m \u001b[0;34m=\u001b[0m \u001b[0mImage\u001b[0m\u001b[0;34m.\u001b[0m\u001b[0mfromarray\u001b[0m\u001b[0;34m(\u001b[0m\u001b[0mtest2\u001b[0m\u001b[0;34m,\u001b[0m \u001b[0;34m\"L\"\u001b[0m \u001b[0;34m)\u001b[0m\u001b[0;34m\u001b[0m\u001b[0;34m\u001b[0m\u001b[0m\n",
      "\u001b[0;31mKeyError\u001b[0m: '0times0'"
     ]
    }
   ],
   "source": [
    "test2 = numbers_library['0times0'][6]\n",
    "print(test2.shape)\n",
    "print(test2)\n",
    "\n",
    "img2 = Image.fromarray(test2, \"L\" )\n",
    "img2.save(\"x.png\")"
   ]
  },
  {
   "cell_type": "code",
   "execution_count": 6,
   "metadata": {},
   "outputs": [
    {
     "name": "stdout",
     "output_type": "stream",
     "text": "All the different symbols and equations are: \n\ndict_keys(['div', 'times', '9', '0', '7', '+', '6', '1', '8', '-', '4', '3', '2', '5'])\n"
    }
   ],
   "source": [
    "print('All the different symbols and equations are: \\n\\n'+ str(functions.getList(numbers_library)) )"
   ]
  },
  {
   "cell_type": "code",
   "execution_count": 18,
   "metadata": {},
   "outputs": [],
   "source": [
    "import pandas as pd"
   ]
  },
  {
   "cell_type": "code",
   "execution_count": 8,
   "metadata": {},
   "outputs": [],
   "source": [
    "######### Save into a .csv file of 2D entries\n",
    "(pd.DataFrame.from_dict(data=numbers_library, orient='index')\n",
    "   .to_csv('dict_file.csv', header=False))"
   ]
  },
  {
   "cell_type": "code",
   "execution_count": 8,
   "metadata": {},
   "outputs": [],
   "source": [
    "import csv"
   ]
  },
  {
   "cell_type": "code",
   "execution_count": 30,
   "metadata": {},
   "outputs": [],
   "source": [
    "colNames = [\"pixel\" + str(i+1) for i in range(len(numbers_library['1'][1].flatten()))]\n",
    "colNames.insert(0,'Symbol')"
   ]
  },
  {
   "cell_type": "code",
   "execution_count": 32,
   "metadata": {},
   "outputs": [],
   "source": [
    "#make new csv file\n",
    "with open('good.csv','w') as fd:\n",
    "    writer = csv.writer(fd)\n",
    "    writer.writerow(colNames)\n",
    "\n",
    "# Add all the arrays into the csv\n",
    "for symbols in numbers_library:\n",
    "    #for arrays in range(symbols):\n",
    "    for array in range(len(numbers_library[symbols])):\n",
    "        a = np.array(numbers_library[symbols][array])\n",
    "        a = list(a.flatten())\n",
    "        a.insert(0,symbols)\n",
    "        #print(\"Symbol \" + str(symbols) + \":    \\t\" + str(a))\n",
    "        with open('good.csv','a') as fd:\n",
    "            writer = csv.writer(fd)\n",
    "            writer.writerow(a)"
   ]
  },
  {
   "cell_type": "code",
   "execution_count": 33,
   "metadata": {},
   "outputs": [
    {
     "name": "stdout",
     "output_type": "stream",
     "text": "Symbol  pixel1  pixel2  pixel3  pixel4  pixel5  pixel6  pixel7  pixel8  \\\n0        div     255     255     255     255     255     255     255     255   \n1        div     255     255     255     255     255     255     255     255   \n2        div     255     255     255     255     255     255     255     255   \n3        div     255     255     255     255     255     255     255     255   \n4        div     255     255     255     255     255     255     255     255   \n5        div     255     255     255     255     255     255     255     255   \n6        div     255     255     255     255     255     255     255     255   \n7        div     255     255     255     255     255     255     255     255   \n8        div     255     255     255     255     255     255     255     255   \n9        div     255     255     255     255     255     255     255     255   \n10       div     255     255     255     255     255     255     255     255   \n11       div     255     255     255     255     255     255     255     255   \n12       div     255     255     255     255     255     255     255     255   \n13       div     255     255     255     255     255     255     255     255   \n14       div     255     255     255     255     255     255     255     255   \n15       div     255     255     255     255     255     255     255     255   \n16       div     255     255     255     255     255     255     255     255   \n17       div     255     255     255     255     255     255     255     255   \n18       div     255     255     255     255     255     255     255     255   \n19       div     255     255     255     255     255     255     255     255   \n20       div     255     255     255     255     255     255     255     255   \n21       div     255     255     255     255     255     255     255     255   \n22       div     255     255     255     255     255     255     255     255   \n23       div     255     255     255     255     255     255     255     255   \n24       div     255     255     255     255     255     255     255     255   \n25       div     255     255     255     255     255     255     255     255   \n26       div     255     255     255     255     255     255     255     255   \n27       div     255     255     255     255     255     255     255     255   \n28       div     255     255     255     255     255     255     255     255   \n29       div     255     255     255     255     255     255     255     255   \n...      ...     ...     ...     ...     ...     ...     ...     ...     ...   \n34695      5     254     255     253     255     255     255     255     255   \n34696      5     255     255     255     255     255     255     255     255   \n34697      5     255     255     254     255     250     255       3       0   \n34698      5     254     255     255     253     255     252     255     255   \n34699      5     255     255     255     255     255     255     255     255   \n34700      5     255     255     255     255     255     255     255     255   \n34701      5     254     255     252     255     255     255     252     255   \n34702      5     255     255     255     255     255     255     255     255   \n34703      5     254     255     255     254     255       3       0       0   \n34704      5     255       0       1       1       0       0       0     255   \n34705      5     255     255     255     255     255     255     255     255   \n34706      5     255     255     255     255     255     255     255     255   \n34707      5     255     255     255     255     255     255     255     255   \n34708      5     254     255     255     255     255     255     254     255   \n34709      5     255     255     255     255     255     255     255     255   \n34710      5     255     255     255     255     255     255     255     255   \n34711      5     255     255     255     255     255     255     255     255   \n34712      5     254     255     254     255     255     255     252     255   \n34713      5     255     253     255     255     255     254     255     254   \n34714      5     255     255     255     255     255     255     255     255   \n34715      5     255     255     255     255     255     255     255     255   \n34716      5     255     255     255     255     255     255     255     255   \n34717      5     255     255     255     255     255     255     255     255   \n34718      5     255     255     255     255     255     255     255     255   \n34719      5     255     255     255     255     255     255     255     255   \n34720      5     255     255     253     252     255     255       1     255   \n34721      5     255     254     255     255     254     255     255     255   \n34722      5     255     255     255     255     255     255     255     255   \n34723      5     255     255     255     255     255     255     255     255   \n34724      5     254     255     255     254     255     255     255     255   \n\n       pixel9  ...  pixel2061  pixel2062  pixel2063  pixel2064  pixel2065  \\\n0         255  ...        255        255        255        255        255   \n1         255  ...        255        255        255        255        255   \n2         255  ...        255        255        255        255        255   \n3         255  ...        255        255        255        255        255   \n4         253  ...        255        255        255        255        255   \n5         255  ...        255        255        255        255        255   \n6         255  ...        255        255        255        255        255   \n7         255  ...        255        255        255        255        255   \n8         255  ...        253        254        255        255        255   \n9         255  ...        255        255        255        255        255   \n10        255  ...        255        255        255        255        255   \n11        255  ...        255        255        255        255        255   \n12        255  ...        255        255        255        255        255   \n13        255  ...        255        255        255        255        255   \n14        255  ...        255        255        255        255        255   \n15        255  ...        255        255        255        255        255   \n16        255  ...        255        255        255        255        255   \n17        255  ...        255        255        255        255        255   \n18        255  ...        255        255        255        255        255   \n19        255  ...        255        255        255        255        255   \n20        255  ...        255        255        255        254        255   \n21        254  ...        255        255        255        255        255   \n22        255  ...        255        255        255        255        255   \n23        255  ...        255        255        255        255        255   \n24        255  ...        255        255        255        255        255   \n25        255  ...        255        255        255        255        255   \n26        255  ...        255        255        255        255        255   \n27        255  ...        255        255        255        255        255   \n28        255  ...        255        255        255        255        255   \n29        255  ...        255        255        255        255        255   \n...       ...  ...        ...        ...        ...        ...        ...   \n34695     255  ...        255        255        255        255        255   \n34696     255  ...        255        255        255        255        255   \n34697       0  ...        253        254        252        255        255   \n34698     254  ...        255        253        255        255        255   \n34699     255  ...        255        255        255        255        255   \n34700     255  ...        255        255        255        255        255   \n34701       0  ...        255        255        255        255        255   \n34702     255  ...        255        255        255        255        255   \n34703       0  ...        255        255        255        255        255   \n34704     255  ...        255        255        251        255        255   \n34705     255  ...        255        255        255        255        255   \n34706     255  ...        255        255        255        255        255   \n34707     255  ...        255        255        255        255        255   \n34708     255  ...        255        255        255        255        255   \n34709     255  ...        255        255        255        255        255   \n34710     255  ...        254        252        255        253        255   \n34711     255  ...        255        255        255        255        255   \n34712     255  ...        255        255        255        255        255   \n34713     255  ...        255        255        255        255        255   \n34714     255  ...        255        255        255        255        255   \n34715     255  ...        255        255        255        255        255   \n34716     255  ...        255        255        255        255        255   \n34717     255  ...        255        255        255        255        255   \n34718     255  ...        255        255        255        255        255   \n34719     255  ...        249        255        251        255        255   \n34720     253  ...        254        255        255        254        255   \n34721     255  ...        255        255        255        255        255   \n34722     255  ...        255        255        255        255        255   \n34723     255  ...        255        255        255        255        255   \n34724     255  ...        255        255        255        255        255   \n\n       pixel2066  pixel2067  pixel2068  pixel2069  pixel2070  \n0            255        255        255        255        255  \n1            255        255        255        255        255  \n2            255        255        255        255        255  \n3            255        255        255        255        255  \n4            255        255        255        255        255  \n5            255        255        255        255        255  \n6            255        255        255        255        255  \n7            255        255        255        255        255  \n8            252        254        255        252        255  \n9            255        255        255        255        255  \n10           255        255        255        255        255  \n11           255        255        255        255        255  \n12           255        255        255        255        255  \n13           255        255        255        255        255  \n14           255        255        255        255        255  \n15           255        255        255        255        255  \n16           255        255        255        255        255  \n17           255        255        255        255        255  \n18           255        255        255        255        255  \n19           255        255        255        255        255  \n20           255        255        255        255        255  \n21           255        255        255        255        255  \n22           255        255        255        255        255  \n23           255        255        255        255        255  \n24           255        255        255        255        255  \n25           255        255        255        255        255  \n26           255        255        255        255        255  \n27           255        255        255        255        255  \n28           255        255        255        255        255  \n29           255        255        255        255        255  \n...          ...        ...        ...        ...        ...  \n34695        255        255        255        255        255  \n34696        255        255        255        255        255  \n34697        255        255        255        255        255  \n34698        255        255        255        255        255  \n34699        255        255        255        255        255  \n34700        255        255        255        255        255  \n34701        255        255        255        255        255  \n34702        255        255        255        255        255  \n34703        255        255        255        255        255  \n34704        255        253        255        255        255  \n34705        255        255        255        255        255  \n34706        255        255        255        255        255  \n34707        255        255        255        255        255  \n34708        255        255        255        255        255  \n34709        255        255        255        255        255  \n34710        255        255        255        255        255  \n34711        255        255        255        255        255  \n34712        255        255        255        255        255  \n34713        255        255        255        255        255  \n34714        255        255        255        255        255  \n34715        255        255        255        255        255  \n34716        255        255        255        255        255  \n34717        255        255        255        255        255  \n34718        255        255        255        255        255  \n34719        255        255        255        255        255  \n34720        255        255        255        255        255  \n34721        255        255        255        255        255  \n34722        255        255        255        255        255  \n34723        255        255        255        255        255  \n34724        255        255        255        255        255  \n\n[34725 rows x 2071 columns]\n"
    }
   ],
   "source": [
    "df = pd.read_csv('good.csv')\n",
    "print(df)"
   ]
  }
 ],
 "metadata": {
  "file_extension": ".py",
  "kernelspec": {
   "display_name": "Python 3",
   "language": "python",
   "name": "python3"
  },
  "language_info": {
   "codemirror_mode": {
    "name": "ipython",
    "version": 3
   },
   "file_extension": ".py",
   "mimetype": "text/x-python",
   "name": "python",
   "nbconvert_exporter": "python",
   "pygments_lexer": "ipython3",
   "version": "3.7.6-final"
  },
  "mimetype": "text/x-python",
  "name": "python",
  "npconvert_exporter": "python",
  "pygments_lexer": "ipython3",
  "version": 3
 },
 "nbformat": 4,
 "nbformat_minor": 2
}